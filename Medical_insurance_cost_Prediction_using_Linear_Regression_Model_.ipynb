{
  "nbformat": 4,
  "nbformat_minor": 0,
  "metadata": {
    "colab": {
      "provenance": [],
      "authorship_tag": "ABX9TyM5LjGYIRlLBzMwJ4p1GARH",
      "include_colab_link": true
    },
    "kernelspec": {
      "name": "python3",
      "display_name": "Python 3"
    },
    "language_info": {
      "name": "python"
    }
  },
  "cells": [
    {
      "cell_type": "markdown",
      "metadata": {
        "id": "view-in-github",
        "colab_type": "text"
      },
      "source": [
        "<a href=\"https://colab.research.google.com/github/RasilaMoidheensha006/Medical-Cost-Prediction/blob/main/Medical_insurance_cost_Prediction_using_Linear_Regression_Model_.ipynb\" target=\"_parent\"><img src=\"https://colab.research.google.com/assets/colab-badge.svg\" alt=\"Open In Colab\"/></a>"
      ]
    },
    {
      "cell_type": "code",
      "execution_count": null,
      "metadata": {
        "id": "XI_Cqr0b0jdd"
      },
      "outputs": [],
      "source": [
        "#importing packages\n",
        "import pandas as pd\n",
        "import numpy as np\n",
        "import seaborn as sns\n",
        "import matplotlib.pyplot as plt\n",
        "%matplotlib inline\n"
      ]
    },
    {
      "cell_type": "code",
      "source": [
        "#importing file to the console\n",
        "from google.colab import files\n",
        "files.upload()"
      ],
      "metadata": {
        "colab": {
          "base_uri": "https://localhost:8080/",
          "height": 127
        },
        "id": "u94bfKoE1RO3",
        "outputId": "8d42c31f-e97a-4e72-fd9f-f5bce887b633"
      },
      "execution_count": null,
      "outputs": [
        {
          "output_type": "display_data",
          "data": {
            "text/plain": [
              "<IPython.core.display.HTML object>"
            ],
            "text/html": [
              "\n",
              "     <input type=\"file\" id=\"files-c2e03713-881b-4c8a-a3cd-f75cdce29558\" name=\"files[]\" multiple disabled\n",
              "        style=\"border:none\" />\n",
              "     <output id=\"result-c2e03713-881b-4c8a-a3cd-f75cdce29558\">\n",
              "      Upload widget is only available when the cell has been executed in the\n",
              "      current browser session. Please rerun this cell to enable.\n",
              "      </output>\n",
              "      <script>// Copyright 2017 Google LLC\n",
              "//\n",
              "// Licensed under the Apache License, Version 2.0 (the \"License\");\n",
              "// you may not use this file except in compliance with the License.\n",
              "// You may obtain a copy of the License at\n",
              "//\n",
              "//      http://www.apache.org/licenses/LICENSE-2.0\n",
              "//\n",
              "// Unless required by applicable law or agreed to in writing, software\n",
              "// distributed under the License is distributed on an \"AS IS\" BASIS,\n",
              "// WITHOUT WARRANTIES OR CONDITIONS OF ANY KIND, either express or implied.\n",
              "// See the License for the specific language governing permissions and\n",
              "// limitations under the License.\n",
              "\n",
              "/**\n",
              " * @fileoverview Helpers for google.colab Python module.\n",
              " */\n",
              "(function(scope) {\n",
              "function span(text, styleAttributes = {}) {\n",
              "  const element = document.createElement('span');\n",
              "  element.textContent = text;\n",
              "  for (const key of Object.keys(styleAttributes)) {\n",
              "    element.style[key] = styleAttributes[key];\n",
              "  }\n",
              "  return element;\n",
              "}\n",
              "\n",
              "// Max number of bytes which will be uploaded at a time.\n",
              "const MAX_PAYLOAD_SIZE = 100 * 1024;\n",
              "\n",
              "function _uploadFiles(inputId, outputId) {\n",
              "  const steps = uploadFilesStep(inputId, outputId);\n",
              "  const outputElement = document.getElementById(outputId);\n",
              "  // Cache steps on the outputElement to make it available for the next call\n",
              "  // to uploadFilesContinue from Python.\n",
              "  outputElement.steps = steps;\n",
              "\n",
              "  return _uploadFilesContinue(outputId);\n",
              "}\n",
              "\n",
              "// This is roughly an async generator (not supported in the browser yet),\n",
              "// where there are multiple asynchronous steps and the Python side is going\n",
              "// to poll for completion of each step.\n",
              "// This uses a Promise to block the python side on completion of each step,\n",
              "// then passes the result of the previous step as the input to the next step.\n",
              "function _uploadFilesContinue(outputId) {\n",
              "  const outputElement = document.getElementById(outputId);\n",
              "  const steps = outputElement.steps;\n",
              "\n",
              "  const next = steps.next(outputElement.lastPromiseValue);\n",
              "  return Promise.resolve(next.value.promise).then((value) => {\n",
              "    // Cache the last promise value to make it available to the next\n",
              "    // step of the generator.\n",
              "    outputElement.lastPromiseValue = value;\n",
              "    return next.value.response;\n",
              "  });\n",
              "}\n",
              "\n",
              "/**\n",
              " * Generator function which is called between each async step of the upload\n",
              " * process.\n",
              " * @param {string} inputId Element ID of the input file picker element.\n",
              " * @param {string} outputId Element ID of the output display.\n",
              " * @return {!Iterable<!Object>} Iterable of next steps.\n",
              " */\n",
              "function* uploadFilesStep(inputId, outputId) {\n",
              "  const inputElement = document.getElementById(inputId);\n",
              "  inputElement.disabled = false;\n",
              "\n",
              "  const outputElement = document.getElementById(outputId);\n",
              "  outputElement.innerHTML = '';\n",
              "\n",
              "  const pickedPromise = new Promise((resolve) => {\n",
              "    inputElement.addEventListener('change', (e) => {\n",
              "      resolve(e.target.files);\n",
              "    });\n",
              "  });\n",
              "\n",
              "  const cancel = document.createElement('button');\n",
              "  inputElement.parentElement.appendChild(cancel);\n",
              "  cancel.textContent = 'Cancel upload';\n",
              "  const cancelPromise = new Promise((resolve) => {\n",
              "    cancel.onclick = () => {\n",
              "      resolve(null);\n",
              "    };\n",
              "  });\n",
              "\n",
              "  // Wait for the user to pick the files.\n",
              "  const files = yield {\n",
              "    promise: Promise.race([pickedPromise, cancelPromise]),\n",
              "    response: {\n",
              "      action: 'starting',\n",
              "    }\n",
              "  };\n",
              "\n",
              "  cancel.remove();\n",
              "\n",
              "  // Disable the input element since further picks are not allowed.\n",
              "  inputElement.disabled = true;\n",
              "\n",
              "  if (!files) {\n",
              "    return {\n",
              "      response: {\n",
              "        action: 'complete',\n",
              "      }\n",
              "    };\n",
              "  }\n",
              "\n",
              "  for (const file of files) {\n",
              "    const li = document.createElement('li');\n",
              "    li.append(span(file.name, {fontWeight: 'bold'}));\n",
              "    li.append(span(\n",
              "        `(${file.type || 'n/a'}) - ${file.size} bytes, ` +\n",
              "        `last modified: ${\n",
              "            file.lastModifiedDate ? file.lastModifiedDate.toLocaleDateString() :\n",
              "                                    'n/a'} - `));\n",
              "    const percent = span('0% done');\n",
              "    li.appendChild(percent);\n",
              "\n",
              "    outputElement.appendChild(li);\n",
              "\n",
              "    const fileDataPromise = new Promise((resolve) => {\n",
              "      const reader = new FileReader();\n",
              "      reader.onload = (e) => {\n",
              "        resolve(e.target.result);\n",
              "      };\n",
              "      reader.readAsArrayBuffer(file);\n",
              "    });\n",
              "    // Wait for the data to be ready.\n",
              "    let fileData = yield {\n",
              "      promise: fileDataPromise,\n",
              "      response: {\n",
              "        action: 'continue',\n",
              "      }\n",
              "    };\n",
              "\n",
              "    // Use a chunked sending to avoid message size limits. See b/62115660.\n",
              "    let position = 0;\n",
              "    do {\n",
              "      const length = Math.min(fileData.byteLength - position, MAX_PAYLOAD_SIZE);\n",
              "      const chunk = new Uint8Array(fileData, position, length);\n",
              "      position += length;\n",
              "\n",
              "      const base64 = btoa(String.fromCharCode.apply(null, chunk));\n",
              "      yield {\n",
              "        response: {\n",
              "          action: 'append',\n",
              "          file: file.name,\n",
              "          data: base64,\n",
              "        },\n",
              "      };\n",
              "\n",
              "      let percentDone = fileData.byteLength === 0 ?\n",
              "          100 :\n",
              "          Math.round((position / fileData.byteLength) * 100);\n",
              "      percent.textContent = `${percentDone}% done`;\n",
              "\n",
              "    } while (position < fileData.byteLength);\n",
              "  }\n",
              "\n",
              "  // All done.\n",
              "  yield {\n",
              "    response: {\n",
              "      action: 'complete',\n",
              "    }\n",
              "  };\n",
              "}\n",
              "\n",
              "scope.google = scope.google || {};\n",
              "scope.google.colab = scope.google.colab || {};\n",
              "scope.google.colab._files = {\n",
              "  _uploadFiles,\n",
              "  _uploadFilesContinue,\n",
              "};\n",
              "})(self);\n",
              "</script> "
            ]
          },
          "metadata": {}
        },
        {
          "output_type": "stream",
          "name": "stdout",
          "text": [
            "Saving insurance.csv to insurance (2).csv\n"
          ]
        },
        {
          "output_type": "execute_result",
          "data": {
            "text/plain": [
              "{'insurance (2).csv': b'age,sex,bmi,children,smoker,region,charges\\r\\n19,female,27.9,0,yes,southwest,16884.924\\r\\n18,male,33.77,1,no,southeast,1725.5523\\r\\n28,male,33,3,no,southeast,4449.462\\r\\n33,male,22.705,0,no,northwest,21984.47061\\r\\n32,male,28.88,0,no,northwest,3866.8552\\r\\n31,female,25.74,0,no,southeast,3756.6216\\r\\n46,female,33.44,1,no,southeast,8240.5896\\r\\n37,female,27.74,3,no,northwest,7281.5056\\r\\n37,male,29.83,2,no,northeast,6406.4107\\r\\n60,female,25.84,0,no,northwest,28923.13692\\r\\n25,male,26.22,0,no,northeast,2721.3208\\r\\n62,female,26.29,0,yes,southeast,27808.7251\\r\\n23,male,34.4,0,no,southwest,1826.843\\r\\n56,female,39.82,0,no,southeast,11090.7178\\r\\n27,male,42.13,0,yes,southeast,39611.7577\\r\\n19,male,24.6,1,no,southwest,1837.237\\r\\n52,female,30.78,1,no,northeast,10797.3362\\r\\n23,male,23.845,0,no,northeast,2395.17155\\r\\n56,male,40.3,0,no,southwest,10602.385\\r\\n30,male,35.3,0,yes,southwest,36837.467\\r\\n60,female,36.005,0,no,northeast,13228.84695\\r\\n30,female,32.4,1,no,southwest,4149.736\\r\\n18,male,34.1,0,no,southeast,1137.011\\r\\n34,female,31.92,1,yes,northeast,37701.8768\\r\\n37,male,28.025,2,no,northwest,6203.90175\\r\\n59,female,27.72,3,no,southeast,14001.1338\\r\\n63,female,23.085,0,no,northeast,14451.83515\\r\\n55,female,32.775,2,no,northwest,12268.63225\\r\\n23,male,17.385,1,no,northwest,2775.19215\\r\\n31,male,36.3,2,yes,southwest,38711\\r\\n22,male,35.6,0,yes,southwest,35585.576\\r\\n18,female,26.315,0,no,northeast,2198.18985\\r\\n19,female,28.6,5,no,southwest,4687.797\\r\\n63,male,28.31,0,no,northwest,13770.0979\\r\\n28,male,36.4,1,yes,southwest,51194.55914\\r\\n19,male,20.425,0,no,northwest,1625.43375\\r\\n62,female,32.965,3,no,northwest,15612.19335\\r\\n26,male,20.8,0,no,southwest,2302.3\\r\\n35,male,36.67,1,yes,northeast,39774.2763\\r\\n60,male,39.9,0,yes,southwest,48173.361\\r\\n24,female,26.6,0,no,northeast,3046.062\\r\\n31,female,36.63,2,no,southeast,4949.7587\\r\\n41,male,21.78,1,no,southeast,6272.4772\\r\\n37,female,30.8,2,no,southeast,6313.759\\r\\n38,male,37.05,1,no,northeast,6079.6715\\r\\n55,male,37.3,0,no,southwest,20630.28351\\r\\n18,female,38.665,2,no,northeast,3393.35635\\r\\n28,female,34.77,0,no,northwest,3556.9223\\r\\n60,female,24.53,0,no,southeast,12629.8967\\r\\n36,male,35.2,1,yes,southeast,38709.176\\r\\n18,female,35.625,0,no,northeast,2211.13075\\r\\n21,female,33.63,2,no,northwest,3579.8287\\r\\n48,male,28,1,yes,southwest,23568.272\\r\\n36,male,34.43,0,yes,southeast,37742.5757\\r\\n40,female,28.69,3,no,northwest,8059.6791\\r\\n58,male,36.955,2,yes,northwest,47496.49445\\r\\n58,female,31.825,2,no,northeast,13607.36875\\r\\n18,male,31.68,2,yes,southeast,34303.1672\\r\\n53,female,22.88,1,yes,southeast,23244.7902\\r\\n34,female,37.335,2,no,northwest,5989.52365\\r\\n43,male,27.36,3,no,northeast,8606.2174\\r\\n25,male,33.66,4,no,southeast,4504.6624\\r\\n64,male,24.7,1,no,northwest,30166.61817\\r\\n28,female,25.935,1,no,northwest,4133.64165\\r\\n20,female,22.42,0,yes,northwest,14711.7438\\r\\n19,female,28.9,0,no,southwest,1743.214\\r\\n61,female,39.1,2,no,southwest,14235.072\\r\\n40,male,26.315,1,no,northwest,6389.37785\\r\\n40,female,36.19,0,no,southeast,5920.1041\\r\\n28,male,23.98,3,yes,southeast,17663.1442\\r\\n27,female,24.75,0,yes,southeast,16577.7795\\r\\n31,male,28.5,5,no,northeast,6799.458\\r\\n53,female,28.1,3,no,southwest,11741.726\\r\\n58,male,32.01,1,no,southeast,11946.6259\\r\\n44,male,27.4,2,no,southwest,7726.854\\r\\n57,male,34.01,0,no,northwest,11356.6609\\r\\n29,female,29.59,1,no,southeast,3947.4131\\r\\n21,male,35.53,0,no,southeast,1532.4697\\r\\n22,female,39.805,0,no,northeast,2755.02095\\r\\n41,female,32.965,0,no,northwest,6571.02435\\r\\n31,male,26.885,1,no,northeast,4441.21315\\r\\n45,female,38.285,0,no,northeast,7935.29115\\r\\n22,male,37.62,1,yes,southeast,37165.1638\\r\\n48,female,41.23,4,no,northwest,11033.6617\\r\\n37,female,34.8,2,yes,southwest,39836.519\\r\\n45,male,22.895,2,yes,northwest,21098.55405\\r\\n57,female,31.16,0,yes,northwest,43578.9394\\r\\n56,female,27.2,0,no,southwest,11073.176\\r\\n46,female,27.74,0,no,northwest,8026.6666\\r\\n55,female,26.98,0,no,northwest,11082.5772\\r\\n21,female,39.49,0,no,southeast,2026.9741\\r\\n53,female,24.795,1,no,northwest,10942.13205\\r\\n59,male,29.83,3,yes,northeast,30184.9367\\r\\n35,male,34.77,2,no,northwest,5729.0053\\r\\n64,female,31.3,2,yes,southwest,47291.055\\r\\n28,female,37.62,1,no,southeast,3766.8838\\r\\n54,female,30.8,3,no,southwest,12105.32\\r\\n55,male,38.28,0,no,southeast,10226.2842\\r\\n56,male,19.95,0,yes,northeast,22412.6485\\r\\n38,male,19.3,0,yes,southwest,15820.699\\r\\n41,female,31.6,0,no,southwest,6186.127\\r\\n30,male,25.46,0,no,northeast,3645.0894\\r\\n18,female,30.115,0,no,northeast,21344.8467\\r\\n61,female,29.92,3,yes,southeast,30942.1918\\r\\n34,female,27.5,1,no,southwest,5003.853\\r\\n20,male,28.025,1,yes,northwest,17560.37975\\r\\n19,female,28.4,1,no,southwest,2331.519\\r\\n26,male,30.875,2,no,northwest,3877.30425\\r\\n29,male,27.94,0,no,southeast,2867.1196\\r\\n63,male,35.09,0,yes,southeast,47055.5321\\r\\n54,male,33.63,1,no,northwest,10825.2537\\r\\n55,female,29.7,2,no,southwest,11881.358\\r\\n37,male,30.8,0,no,southwest,4646.759\\r\\n21,female,35.72,0,no,northwest,2404.7338\\r\\n52,male,32.205,3,no,northeast,11488.31695\\r\\n60,male,28.595,0,no,northeast,30259.99556\\r\\n58,male,49.06,0,no,southeast,11381.3254\\r\\n29,female,27.94,1,yes,southeast,19107.7796\\r\\n49,female,27.17,0,no,southeast,8601.3293\\r\\n37,female,23.37,2,no,northwest,6686.4313\\r\\n44,male,37.1,2,no,southwest,7740.337\\r\\n18,male,23.75,0,no,northeast,1705.6245\\r\\n20,female,28.975,0,no,northwest,2257.47525\\r\\n44,male,31.35,1,yes,northeast,39556.4945\\r\\n47,female,33.915,3,no,northwest,10115.00885\\r\\n26,female,28.785,0,no,northeast,3385.39915\\r\\n19,female,28.3,0,yes,southwest,17081.08\\r\\n52,female,37.4,0,no,southwest,9634.538\\r\\n32,female,17.765,2,yes,northwest,32734.1863\\r\\n38,male,34.7,2,no,southwest,6082.405\\r\\n59,female,26.505,0,no,northeast,12815.44495\\r\\n61,female,22.04,0,no,northeast,13616.3586\\r\\n53,female,35.9,2,no,southwest,11163.568\\r\\n19,male,25.555,0,no,northwest,1632.56445\\r\\n20,female,28.785,0,no,northeast,2457.21115\\r\\n22,female,28.05,0,no,southeast,2155.6815\\r\\n19,male,34.1,0,no,southwest,1261.442\\r\\n22,male,25.175,0,no,northwest,2045.68525\\r\\n54,female,31.9,3,no,southeast,27322.73386\\r\\n22,female,36,0,no,southwest,2166.732\\r\\n34,male,22.42,2,no,northeast,27375.90478\\r\\n26,male,32.49,1,no,northeast,3490.5491\\r\\n34,male,25.3,2,yes,southeast,18972.495\\r\\n29,male,29.735,2,no,northwest,18157.876\\r\\n30,male,28.69,3,yes,northwest,20745.9891\\r\\n29,female,38.83,3,no,southeast,5138.2567\\r\\n46,male,30.495,3,yes,northwest,40720.55105\\r\\n51,female,37.73,1,no,southeast,9877.6077\\r\\n53,female,37.43,1,no,northwest,10959.6947\\r\\n19,male,28.4,1,no,southwest,1842.519\\r\\n35,male,24.13,1,no,northwest,5125.2157\\r\\n48,male,29.7,0,no,southeast,7789.635\\r\\n32,female,37.145,3,no,northeast,6334.34355\\r\\n42,female,23.37,0,yes,northeast,19964.7463\\r\\n40,female,25.46,1,no,northeast,7077.1894\\r\\n44,male,39.52,0,no,northwest,6948.7008\\r\\n48,male,24.42,0,yes,southeast,21223.6758\\r\\n18,male,25.175,0,yes,northeast,15518.18025\\r\\n30,male,35.53,0,yes,southeast,36950.2567\\r\\n50,female,27.83,3,no,southeast,19749.38338\\r\\n42,female,26.6,0,yes,northwest,21348.706\\r\\n18,female,36.85,0,yes,southeast,36149.4835\\r\\n54,male,39.6,1,no,southwest,10450.552\\r\\n32,female,29.8,2,no,southwest,5152.134\\r\\n37,male,29.64,0,no,northwest,5028.1466\\r\\n47,male,28.215,4,no,northeast,10407.08585\\r\\n20,female,37,5,no,southwest,4830.63\\r\\n32,female,33.155,3,no,northwest,6128.79745\\r\\n19,female,31.825,1,no,northwest,2719.27975\\r\\n27,male,18.905,3,no,northeast,4827.90495\\r\\n63,male,41.47,0,no,southeast,13405.3903\\r\\n49,male,30.3,0,no,southwest,8116.68\\r\\n18,male,15.96,0,no,northeast,1694.7964\\r\\n35,female,34.8,1,no,southwest,5246.047\\r\\n24,female,33.345,0,no,northwest,2855.43755\\r\\n63,female,37.7,0,yes,southwest,48824.45\\r\\n38,male,27.835,2,no,northwest,6455.86265\\r\\n54,male,29.2,1,no,southwest,10436.096\\r\\n46,female,28.9,2,no,southwest,8823.279\\r\\n41,female,33.155,3,no,northeast,8538.28845\\r\\n58,male,28.595,0,no,northwest,11735.87905\\r\\n18,female,38.28,0,no,southeast,1631.8212\\r\\n22,male,19.95,3,no,northeast,4005.4225\\r\\n44,female,26.41,0,no,northwest,7419.4779\\r\\n44,male,30.69,2,no,southeast,7731.4271\\r\\n36,male,41.895,3,yes,northeast,43753.33705\\r\\n26,female,29.92,2,no,southeast,3981.9768\\r\\n30,female,30.9,3,no,southwest,5325.651\\r\\n41,female,32.2,1,no,southwest,6775.961\\r\\n29,female,32.11,2,no,northwest,4922.9159\\r\\n61,male,31.57,0,no,southeast,12557.6053\\r\\n36,female,26.2,0,no,southwest,4883.866\\r\\n25,male,25.74,0,no,southeast,2137.6536\\r\\n56,female,26.6,1,no,northwest,12044.342\\r\\n18,male,34.43,0,no,southeast,1137.4697\\r\\n19,male,30.59,0,no,northwest,1639.5631\\r\\n39,female,32.8,0,no,southwest,5649.715\\r\\n45,female,28.6,2,no,southeast,8516.829\\r\\n51,female,18.05,0,no,northwest,9644.2525\\r\\n64,female,39.33,0,no,northeast,14901.5167\\r\\n19,female,32.11,0,no,northwest,2130.6759\\r\\n48,female,32.23,1,no,southeast,8871.1517\\r\\n60,female,24.035,0,no,northwest,13012.20865\\r\\n27,female,36.08,0,yes,southeast,37133.8982\\r\\n46,male,22.3,0,no,southwest,7147.105\\r\\n28,female,28.88,1,no,northeast,4337.7352\\r\\n59,male,26.4,0,no,southeast,11743.299\\r\\n35,male,27.74,2,yes,northeast,20984.0936\\r\\n63,female,31.8,0,no,southwest,13880.949\\r\\n40,male,41.23,1,no,northeast,6610.1097\\r\\n20,male,33,1,no,southwest,1980.07\\r\\n40,male,30.875,4,no,northwest,8162.71625\\r\\n24,male,28.5,2,no,northwest,3537.703\\r\\n34,female,26.73,1,no,southeast,5002.7827\\r\\n45,female,30.9,2,no,southwest,8520.026\\r\\n41,female,37.1,2,no,southwest,7371.772\\r\\n53,female,26.6,0,no,northwest,10355.641\\r\\n27,male,23.1,0,no,southeast,2483.736\\r\\n26,female,29.92,1,no,southeast,3392.9768\\r\\n24,female,23.21,0,no,southeast,25081.76784\\r\\n34,female,33.7,1,no,southwest,5012.471\\r\\n53,female,33.25,0,no,northeast,10564.8845\\r\\n32,male,30.8,3,no,southwest,5253.524\\r\\n19,male,34.8,0,yes,southwest,34779.615\\r\\n42,male,24.64,0,yes,southeast,19515.5416\\r\\n55,male,33.88,3,no,southeast,11987.1682\\r\\n28,male,38.06,0,no,southeast,2689.4954\\r\\n58,female,41.91,0,no,southeast,24227.33724\\r\\n41,female,31.635,1,no,northeast,7358.17565\\r\\n47,male,25.46,2,no,northeast,9225.2564\\r\\n42,female,36.195,1,no,northwest,7443.64305\\r\\n59,female,27.83,3,no,southeast,14001.2867\\r\\n19,female,17.8,0,no,southwest,1727.785\\r\\n59,male,27.5,1,no,southwest,12333.828\\r\\n39,male,24.51,2,no,northwest,6710.1919\\r\\n40,female,22.22,2,yes,southeast,19444.2658\\r\\n18,female,26.73,0,no,southeast,1615.7667\\r\\n31,male,38.39,2,no,southeast,4463.2051\\r\\n19,male,29.07,0,yes,northwest,17352.6803\\r\\n44,male,38.06,1,no,southeast,7152.6714\\r\\n23,female,36.67,2,yes,northeast,38511.6283\\r\\n33,female,22.135,1,no,northeast,5354.07465\\r\\n55,female,26.8,1,no,southwest,35160.13457\\r\\n40,male,35.3,3,no,southwest,7196.867\\r\\n63,female,27.74,0,yes,northeast,29523.1656\\r\\n54,male,30.02,0,no,northwest,24476.47851\\r\\n60,female,38.06,0,no,southeast,12648.7034\\r\\n24,male,35.86,0,no,southeast,1986.9334\\r\\n19,male,20.9,1,no,southwest,1832.094\\r\\n29,male,28.975,1,no,northeast,4040.55825\\r\\n18,male,17.29,2,yes,northeast,12829.4551\\r\\n63,female,32.2,2,yes,southwest,47305.305\\r\\n54,male,34.21,2,yes,southeast,44260.7499\\r\\n27,male,30.3,3,no,southwest,4260.744\\r\\n50,male,31.825,0,yes,northeast,41097.16175\\r\\n55,female,25.365,3,no,northeast,13047.33235\\r\\n56,male,33.63,0,yes,northwest,43921.1837\\r\\n38,female,40.15,0,no,southeast,5400.9805\\r\\n51,male,24.415,4,no,northwest,11520.09985\\r\\n19,male,31.92,0,yes,northwest,33750.2918\\r\\n58,female,25.2,0,no,southwest,11837.16\\r\\n20,female,26.84,1,yes,southeast,17085.2676\\r\\n52,male,24.32,3,yes,northeast,24869.8368\\r\\n19,male,36.955,0,yes,northwest,36219.40545\\r\\n53,female,38.06,3,no,southeast,20462.99766\\r\\n46,male,42.35,3,yes,southeast,46151.1245\\r\\n40,male,19.8,1,yes,southeast,17179.522\\r\\n59,female,32.395,3,no,northeast,14590.63205\\r\\n45,male,30.2,1,no,southwest,7441.053\\r\\n49,male,25.84,1,no,northeast,9282.4806\\r\\n18,male,29.37,1,no,southeast,1719.4363\\r\\n50,male,34.2,2,yes,southwest,42856.838\\r\\n41,male,37.05,2,no,northwest,7265.7025\\r\\n50,male,27.455,1,no,northeast,9617.66245\\r\\n25,male,27.55,0,no,northwest,2523.1695\\r\\n47,female,26.6,2,no,northeast,9715.841\\r\\n19,male,20.615,2,no,northwest,2803.69785\\r\\n22,female,24.3,0,no,southwest,2150.469\\r\\n59,male,31.79,2,no,southeast,12928.7911\\r\\n51,female,21.56,1,no,southeast,9855.1314\\r\\n40,female,28.12,1,yes,northeast,22331.5668\\r\\n54,male,40.565,3,yes,northeast,48549.17835\\r\\n30,male,27.645,1,no,northeast,4237.12655\\r\\n55,female,32.395,1,no,northeast,11879.10405\\r\\n52,female,31.2,0,no,southwest,9625.92\\r\\n46,male,26.62,1,no,southeast,7742.1098\\r\\n46,female,48.07,2,no,northeast,9432.9253\\r\\n63,female,26.22,0,no,northwest,14256.1928\\r\\n59,female,36.765,1,yes,northeast,47896.79135\\r\\n52,male,26.4,3,no,southeast,25992.82104\\r\\n28,female,33.4,0,no,southwest,3172.018\\r\\n29,male,29.64,1,no,northeast,20277.80751\\r\\n25,male,45.54,2,yes,southeast,42112.2356\\r\\n22,female,28.82,0,no,southeast,2156.7518\\r\\n25,male,26.8,3,no,southwest,3906.127\\r\\n18,male,22.99,0,no,northeast,1704.5681\\r\\n19,male,27.7,0,yes,southwest,16297.846\\r\\n47,male,25.41,1,yes,southeast,21978.6769\\r\\n31,male,34.39,3,yes,northwest,38746.3551\\r\\n48,female,28.88,1,no,northwest,9249.4952\\r\\n36,male,27.55,3,no,northeast,6746.7425\\r\\n53,female,22.61,3,yes,northeast,24873.3849\\r\\n56,female,37.51,2,no,southeast,12265.5069\\r\\n28,female,33,2,no,southeast,4349.462\\r\\n57,female,38,2,no,southwest,12646.207\\r\\n29,male,33.345,2,no,northwest,19442.3535\\r\\n28,female,27.5,2,no,southwest,20177.67113\\r\\n30,female,33.33,1,no,southeast,4151.0287\\r\\n58,male,34.865,0,no,northeast,11944.59435\\r\\n41,female,33.06,2,no,northwest,7749.1564\\r\\n50,male,26.6,0,no,southwest,8444.474\\r\\n19,female,24.7,0,no,southwest,1737.376\\r\\n43,male,35.97,3,yes,southeast,42124.5153\\r\\n49,male,35.86,0,no,southeast,8124.4084\\r\\n27,female,31.4,0,yes,southwest,34838.873\\r\\n52,male,33.25,0,no,northeast,9722.7695\\r\\n50,male,32.205,0,no,northwest,8835.26495\\r\\n54,male,32.775,0,no,northeast,10435.06525\\r\\n44,female,27.645,0,no,northwest,7421.19455\\r\\n32,male,37.335,1,no,northeast,4667.60765\\r\\n34,male,25.27,1,no,northwest,4894.7533\\r\\n26,female,29.64,4,no,northeast,24671.66334\\r\\n34,male,30.8,0,yes,southwest,35491.64\\r\\n57,male,40.945,0,no,northeast,11566.30055\\r\\n29,male,27.2,0,no,southwest,2866.091\\r\\n40,male,34.105,1,no,northeast,6600.20595\\r\\n27,female,23.21,1,no,southeast,3561.8889\\r\\n45,male,36.48,2,yes,northwest,42760.5022\\r\\n64,female,33.8,1,yes,southwest,47928.03\\r\\n52,male,36.7,0,no,southwest,9144.565\\r\\n61,female,36.385,1,yes,northeast,48517.56315\\r\\n52,male,27.36,0,yes,northwest,24393.6224\\r\\n61,female,31.16,0,no,northwest,13429.0354\\r\\n56,female,28.785,0,no,northeast,11658.37915\\r\\n43,female,35.72,2,no,northeast,19144.57652\\r\\n64,male,34.5,0,no,southwest,13822.803\\r\\n60,male,25.74,0,no,southeast,12142.5786\\r\\n62,male,27.55,1,no,northwest,13937.6665\\r\\n50,male,32.3,1,yes,northeast,41919.097\\r\\n46,female,27.72,1,no,southeast,8232.6388\\r\\n24,female,27.6,0,no,southwest,18955.22017\\r\\n62,male,30.02,0,no,northwest,13352.0998\\r\\n60,female,27.55,0,no,northeast,13217.0945\\r\\n63,male,36.765,0,no,northeast,13981.85035\\r\\n49,female,41.47,4,no,southeast,10977.2063\\r\\n34,female,29.26,3,no,southeast,6184.2994\\r\\n33,male,35.75,2,no,southeast,4889.9995\\r\\n46,male,33.345,1,no,northeast,8334.45755\\r\\n36,female,29.92,1,no,southeast,5478.0368\\r\\n19,male,27.835,0,no,northwest,1635.73365\\r\\n57,female,23.18,0,no,northwest,11830.6072\\r\\n50,female,25.6,0,no,southwest,8932.084\\r\\n30,female,27.7,0,no,southwest,3554.203\\r\\n33,male,35.245,0,no,northeast,12404.8791\\r\\n18,female,38.28,0,no,southeast,14133.03775\\r\\n46,male,27.6,0,no,southwest,24603.04837\\r\\n46,male,43.89,3,no,southeast,8944.1151\\r\\n47,male,29.83,3,no,northwest,9620.3307\\r\\n23,male,41.91,0,no,southeast,1837.2819\\r\\n18,female,20.79,0,no,southeast,1607.5101\\r\\n48,female,32.3,2,no,northeast,10043.249\\r\\n35,male,30.5,1,no,southwest,4751.07\\r\\n19,female,21.7,0,yes,southwest,13844.506\\r\\n21,female,26.4,1,no,southwest,2597.779\\r\\n21,female,21.89,2,no,southeast,3180.5101\\r\\n49,female,30.78,1,no,northeast,9778.3472\\r\\n56,female,32.3,3,no,northeast,13430.265\\r\\n42,female,24.985,2,no,northwest,8017.06115\\r\\n44,male,32.015,2,no,northwest,8116.26885\\r\\n18,male,30.4,3,no,northeast,3481.868\\r\\n61,female,21.09,0,no,northwest,13415.0381\\r\\n57,female,22.23,0,no,northeast,12029.2867\\r\\n42,female,33.155,1,no,northeast,7639.41745\\r\\n26,male,32.9,2,yes,southwest,36085.219\\r\\n20,male,33.33,0,no,southeast,1391.5287\\r\\n23,female,28.31,0,yes,northwest,18033.9679\\r\\n39,female,24.89,3,yes,northeast,21659.9301\\r\\n24,male,40.15,0,yes,southeast,38126.2465\\r\\n64,female,30.115,3,no,northwest,16455.70785\\r\\n62,male,31.46,1,no,southeast,27000.98473\\r\\n27,female,17.955,2,yes,northeast,15006.57945\\r\\n55,male,30.685,0,yes,northeast,42303.69215\\r\\n55,male,33,0,no,southeast,20781.48892\\r\\n35,female,43.34,2,no,southeast,5846.9176\\r\\n44,male,22.135,2,no,northeast,8302.53565\\r\\n19,male,34.4,0,no,southwest,1261.859\\r\\n58,female,39.05,0,no,southeast,11856.4115\\r\\n50,male,25.365,2,no,northwest,30284.64294\\r\\n26,female,22.61,0,no,northwest,3176.8159\\r\\n24,female,30.21,3,no,northwest,4618.0799\\r\\n48,male,35.625,4,no,northeast,10736.87075\\r\\n19,female,37.43,0,no,northwest,2138.0707\\r\\n48,male,31.445,1,no,northeast,8964.06055\\r\\n49,male,31.35,1,no,northeast,9290.1395\\r\\n46,female,32.3,2,no,northeast,9411.005\\r\\n46,male,19.855,0,no,northwest,7526.70645\\r\\n43,female,34.4,3,no,southwest,8522.003\\r\\n21,male,31.02,0,no,southeast,16586.49771\\r\\n64,male,25.6,2,no,southwest,14988.432\\r\\n18,female,38.17,0,no,southeast,1631.6683\\r\\n51,female,20.6,0,no,southwest,9264.797\\r\\n47,male,47.52,1,no,southeast,8083.9198\\r\\n64,female,32.965,0,no,northwest,14692.66935\\r\\n49,male,32.3,3,no,northwest,10269.46\\r\\n31,male,20.4,0,no,southwest,3260.199\\r\\n52,female,38.38,2,no,northeast,11396.9002\\r\\n33,female,24.31,0,no,southeast,4185.0979\\r\\n47,female,23.6,1,no,southwest,8539.671\\r\\n38,male,21.12,3,no,southeast,6652.5288\\r\\n32,male,30.03,1,no,southeast,4074.4537\\r\\n19,male,17.48,0,no,northwest,1621.3402\\r\\n44,female,20.235,1,yes,northeast,19594.80965\\r\\n26,female,17.195,2,yes,northeast,14455.64405\\r\\n25,male,23.9,5,no,southwest,5080.096\\r\\n19,female,35.15,0,no,northwest,2134.9015\\r\\n43,female,35.64,1,no,southeast,7345.7266\\r\\n52,male,34.1,0,no,southeast,9140.951\\r\\n36,female,22.6,2,yes,southwest,18608.262\\r\\n64,male,39.16,1,no,southeast,14418.2804\\r\\n63,female,26.98,0,yes,northwest,28950.4692\\r\\n64,male,33.88,0,yes,southeast,46889.2612\\r\\n61,male,35.86,0,yes,southeast,46599.1084\\r\\n40,male,32.775,1,yes,northeast,39125.33225\\r\\n25,male,30.59,0,no,northeast,2727.3951\\r\\n48,male,30.2,2,no,southwest,8968.33\\r\\n45,male,24.31,5,no,southeast,9788.8659\\r\\n38,female,27.265,1,no,northeast,6555.07035\\r\\n18,female,29.165,0,no,northeast,7323.734819\\r\\n21,female,16.815,1,no,northeast,3167.45585\\r\\n27,female,30.4,3,no,northwest,18804.7524\\r\\n19,male,33.1,0,no,southwest,23082.95533\\r\\n29,female,20.235,2,no,northwest,4906.40965\\r\\n42,male,26.9,0,no,southwest,5969.723\\r\\n60,female,30.5,0,no,southwest,12638.195\\r\\n31,male,28.595,1,no,northwest,4243.59005\\r\\n60,male,33.11,3,no,southeast,13919.8229\\r\\n22,male,31.73,0,no,northeast,2254.7967\\r\\n35,male,28.9,3,no,southwest,5926.846\\r\\n52,female,46.75,5,no,southeast,12592.5345\\r\\n26,male,29.45,0,no,northeast,2897.3235\\r\\n31,female,32.68,1,no,northwest,4738.2682\\r\\n33,female,33.5,0,yes,southwest,37079.372\\r\\n18,male,43.01,0,no,southeast,1149.3959\\r\\n59,female,36.52,1,no,southeast,28287.89766\\r\\n56,male,26.695,1,yes,northwest,26109.32905\\r\\n45,female,33.1,0,no,southwest,7345.084\\r\\n60,male,29.64,0,no,northeast,12730.9996\\r\\n56,female,25.65,0,no,northwest,11454.0215\\r\\n40,female,29.6,0,no,southwest,5910.944\\r\\n35,male,38.6,1,no,southwest,4762.329\\r\\n39,male,29.6,4,no,southwest,7512.267\\r\\n30,male,24.13,1,no,northwest,4032.2407\\r\\n24,male,23.4,0,no,southwest,1969.614\\r\\n20,male,29.735,0,no,northwest,1769.53165\\r\\n32,male,46.53,2,no,southeast,4686.3887\\r\\n59,male,37.4,0,no,southwest,21797.0004\\r\\n55,female,30.14,2,no,southeast,11881.9696\\r\\n57,female,30.495,0,no,northwest,11840.77505\\r\\n56,male,39.6,0,no,southwest,10601.412\\r\\n40,female,33,3,no,southeast,7682.67\\r\\n49,female,36.63,3,no,southeast,10381.4787\\r\\n42,male,30,0,yes,southwest,22144.032\\r\\n62,female,38.095,2,no,northeast,15230.32405\\r\\n56,male,25.935,0,no,northeast,11165.41765\\r\\n19,male,25.175,0,no,northwest,1632.03625\\r\\n30,female,28.38,1,yes,southeast,19521.9682\\r\\n60,female,28.7,1,no,southwest,13224.693\\r\\n56,female,33.82,2,no,northwest,12643.3778\\r\\n28,female,24.32,1,no,northeast,23288.9284\\r\\n18,female,24.09,1,no,southeast,2201.0971\\r\\n27,male,32.67,0,no,southeast,2497.0383\\r\\n18,female,30.115,0,no,northeast,2203.47185\\r\\n19,female,29.8,0,no,southwest,1744.465\\r\\n47,female,33.345,0,no,northeast,20878.78443\\r\\n54,male,25.1,3,yes,southwest,25382.297\\r\\n61,male,28.31,1,yes,northwest,28868.6639\\r\\n24,male,28.5,0,yes,northeast,35147.52848\\r\\n25,male,35.625,0,no,northwest,2534.39375\\r\\n21,male,36.85,0,no,southeast,1534.3045\\r\\n23,male,32.56,0,no,southeast,1824.2854\\r\\n63,male,41.325,3,no,northwest,15555.18875\\r\\n49,male,37.51,2,no,southeast,9304.7019\\r\\n18,female,31.35,0,no,southeast,1622.1885\\r\\n51,female,39.5,1,no,southwest,9880.068\\r\\n48,male,34.3,3,no,southwest,9563.029\\r\\n31,female,31.065,0,no,northeast,4347.02335\\r\\n54,female,21.47,3,no,northwest,12475.3513\\r\\n19,male,28.7,0,no,southwest,1253.936\\r\\n44,female,38.06,0,yes,southeast,48885.13561\\r\\n53,male,31.16,1,no,northwest,10461.9794\\r\\n19,female,32.9,0,no,southwest,1748.774\\r\\n61,female,25.08,0,no,southeast,24513.09126\\r\\n18,female,25.08,0,no,northeast,2196.4732\\r\\n61,male,43.4,0,no,southwest,12574.049\\r\\n21,male,25.7,4,yes,southwest,17942.106\\r\\n20,male,27.93,0,no,northeast,1967.0227\\r\\n31,female,23.6,2,no,southwest,4931.647\\r\\n45,male,28.7,2,no,southwest,8027.968\\r\\n44,female,23.98,2,no,southeast,8211.1002\\r\\n62,female,39.2,0,no,southwest,13470.86\\r\\n29,male,34.4,0,yes,southwest,36197.699\\r\\n43,male,26.03,0,no,northeast,6837.3687\\r\\n51,male,23.21,1,yes,southeast,22218.1149\\r\\n19,male,30.25,0,yes,southeast,32548.3405\\r\\n38,female,28.93,1,no,southeast,5974.3847\\r\\n37,male,30.875,3,no,northwest,6796.86325\\r\\n22,male,31.35,1,no,northwest,2643.2685\\r\\n21,male,23.75,2,no,northwest,3077.0955\\r\\n24,female,25.27,0,no,northeast,3044.2133\\r\\n57,female,28.7,0,no,southwest,11455.28\\r\\n56,male,32.11,1,no,northeast,11763.0009\\r\\n27,male,33.66,0,no,southeast,2498.4144\\r\\n51,male,22.42,0,no,northeast,9361.3268\\r\\n19,male,30.4,0,no,southwest,1256.299\\r\\n39,male,28.3,1,yes,southwest,21082.16\\r\\n58,male,35.7,0,no,southwest,11362.755\\r\\n20,male,35.31,1,no,southeast,27724.28875\\r\\n45,male,30.495,2,no,northwest,8413.46305\\r\\n35,female,31,1,no,southwest,5240.765\\r\\n31,male,30.875,0,no,northeast,3857.75925\\r\\n50,female,27.36,0,no,northeast,25656.57526\\r\\n32,female,44.22,0,no,southeast,3994.1778\\r\\n51,female,33.915,0,no,northeast,9866.30485\\r\\n38,female,37.73,0,no,southeast,5397.6167\\r\\n42,male,26.07,1,yes,southeast,38245.59327\\r\\n18,female,33.88,0,no,southeast,11482.63485\\r\\n19,female,30.59,2,no,northwest,24059.68019\\r\\n51,female,25.8,1,no,southwest,9861.025\\r\\n46,male,39.425,1,no,northeast,8342.90875\\r\\n18,male,25.46,0,no,northeast,1708.0014\\r\\n57,male,42.13,1,yes,southeast,48675.5177\\r\\n62,female,31.73,0,no,northeast,14043.4767\\r\\n59,male,29.7,2,no,southeast,12925.886\\r\\n37,male,36.19,0,no,southeast,19214.70553\\r\\n64,male,40.48,0,no,southeast,13831.1152\\r\\n38,male,28.025,1,no,northeast,6067.12675\\r\\n33,female,38.9,3,no,southwest,5972.378\\r\\n46,female,30.2,2,no,southwest,8825.086\\r\\n46,female,28.05,1,no,southeast,8233.0975\\r\\n53,male,31.35,0,no,southeast,27346.04207\\r\\n34,female,38,3,no,southwest,6196.448\\r\\n20,female,31.79,2,no,southeast,3056.3881\\r\\n63,female,36.3,0,no,southeast,13887.204\\r\\n54,female,47.41,0,yes,southeast,63770.42801\\r\\n54,male,30.21,0,no,northwest,10231.4999\\r\\n49,male,25.84,2,yes,northwest,23807.2406\\r\\n28,male,35.435,0,no,northeast,3268.84665\\r\\n54,female,46.7,2,no,southwest,11538.421\\r\\n25,female,28.595,0,no,northeast,3213.62205\\r\\n43,female,46.2,0,yes,southeast,45863.205\\r\\n63,male,30.8,0,no,southwest,13390.559\\r\\n32,female,28.93,0,no,southeast,3972.9247\\r\\n62,male,21.4,0,no,southwest,12957.118\\r\\n52,female,31.73,2,no,northwest,11187.6567\\r\\n25,female,41.325,0,no,northeast,17878.90068\\r\\n28,male,23.8,2,no,southwest,3847.674\\r\\n46,male,33.44,1,no,northeast,8334.5896\\r\\n34,male,34.21,0,no,southeast,3935.1799\\r\\n35,female,34.105,3,yes,northwest,39983.42595\\r\\n19,male,35.53,0,no,northwest,1646.4297\\r\\n46,female,19.95,2,no,northwest,9193.8385\\r\\n54,female,32.68,0,no,northeast,10923.9332\\r\\n27,male,30.5,0,no,southwest,2494.022\\r\\n50,male,44.77,1,no,southeast,9058.7303\\r\\n18,female,32.12,2,no,southeast,2801.2588\\r\\n19,female,30.495,0,no,northwest,2128.43105\\r\\n38,female,40.565,1,no,northwest,6373.55735\\r\\n41,male,30.59,2,no,northwest,7256.7231\\r\\n49,female,31.9,5,no,southwest,11552.904\\r\\n48,male,40.565,2,yes,northwest,45702.02235\\r\\n31,female,29.1,0,no,southwest,3761.292\\r\\n18,female,37.29,1,no,southeast,2219.4451\\r\\n30,female,43.12,2,no,southeast,4753.6368\\r\\n62,female,36.86,1,no,northeast,31620.00106\\r\\n57,female,34.295,2,no,northeast,13224.05705\\r\\n58,female,27.17,0,no,northwest,12222.8983\\r\\n22,male,26.84,0,no,southeast,1664.9996\\r\\n31,female,38.095,1,yes,northeast,58571.07448\\r\\n52,male,30.2,1,no,southwest,9724.53\\r\\n25,female,23.465,0,no,northeast,3206.49135\\r\\n59,male,25.46,1,no,northeast,12913.9924\\r\\n19,male,30.59,0,no,northwest,1639.5631\\r\\n39,male,45.43,2,no,southeast,6356.2707\\r\\n32,female,23.65,1,no,southeast,17626.23951\\r\\n19,male,20.7,0,no,southwest,1242.816\\r\\n33,female,28.27,1,no,southeast,4779.6023\\r\\n21,male,20.235,3,no,northeast,3861.20965\\r\\n34,female,30.21,1,yes,northwest,43943.8761\\r\\n61,female,35.91,0,no,northeast,13635.6379\\r\\n38,female,30.69,1,no,southeast,5976.8311\\r\\n58,female,29,0,no,southwest,11842.442\\r\\n47,male,19.57,1,no,northwest,8428.0693\\r\\n20,male,31.13,2,no,southeast,2566.4707\\r\\n21,female,21.85,1,yes,northeast,15359.1045\\r\\n41,male,40.26,0,no,southeast,5709.1644\\r\\n46,female,33.725,1,no,northeast,8823.98575\\r\\n42,female,29.48,2,no,southeast,7640.3092\\r\\n34,female,33.25,1,no,northeast,5594.8455\\r\\n43,male,32.6,2,no,southwest,7441.501\\r\\n52,female,37.525,2,no,northwest,33471.97189\\r\\n18,female,39.16,0,no,southeast,1633.0444\\r\\n51,male,31.635,0,no,northwest,9174.13565\\r\\n56,female,25.3,0,no,southwest,11070.535\\r\\n64,female,39.05,3,no,southeast,16085.1275\\r\\n19,female,28.31,0,yes,northwest,17468.9839\\r\\n51,female,34.1,0,no,southeast,9283.562\\r\\n27,female,25.175,0,no,northeast,3558.62025\\r\\n59,female,23.655,0,yes,northwest,25678.77845\\r\\n28,male,26.98,2,no,northeast,4435.0942\\r\\n30,male,37.8,2,yes,southwest,39241.442\\r\\n47,female,29.37,1,no,southeast,8547.6913\\r\\n38,female,34.8,2,no,southwest,6571.544\\r\\n18,female,33.155,0,no,northeast,2207.69745\\r\\n34,female,19,3,no,northeast,6753.038\\r\\n20,female,33,0,no,southeast,1880.07\\r\\n47,female,36.63,1,yes,southeast,42969.8527\\r\\n56,female,28.595,0,no,northeast,11658.11505\\r\\n49,male,25.6,2,yes,southwest,23306.547\\r\\n19,female,33.11,0,yes,southeast,34439.8559\\r\\n55,female,37.1,0,no,southwest,10713.644\\r\\n30,male,31.4,1,no,southwest,3659.346\\r\\n37,male,34.1,4,yes,southwest,40182.246\\r\\n49,female,21.3,1,no,southwest,9182.17\\r\\n18,male,33.535,0,yes,northeast,34617.84065\\r\\n59,male,28.785,0,no,northwest,12129.61415\\r\\n29,female,26.03,0,no,northwest,3736.4647\\r\\n36,male,28.88,3,no,northeast,6748.5912\\r\\n33,male,42.46,1,no,southeast,11326.71487\\r\\n58,male,38,0,no,southwest,11365.952\\r\\n44,female,38.95,0,yes,northwest,42983.4585\\r\\n53,male,36.1,1,no,southwest,10085.846\\r\\n24,male,29.3,0,no,southwest,1977.815\\r\\n29,female,35.53,0,no,southeast,3366.6697\\r\\n40,male,22.705,2,no,northeast,7173.35995\\r\\n51,male,39.7,1,no,southwest,9391.346\\r\\n64,male,38.19,0,no,northeast,14410.9321\\r\\n19,female,24.51,1,no,northwest,2709.1119\\r\\n35,female,38.095,2,no,northeast,24915.04626\\r\\n39,male,26.41,0,yes,northeast,20149.3229\\r\\n56,male,33.66,4,no,southeast,12949.1554\\r\\n33,male,42.4,5,no,southwest,6666.243\\r\\n42,male,28.31,3,yes,northwest,32787.45859\\r\\n61,male,33.915,0,no,northeast,13143.86485\\r\\n23,female,34.96,3,no,northwest,4466.6214\\r\\n43,male,35.31,2,no,southeast,18806.14547\\r\\n48,male,30.78,3,no,northeast,10141.1362\\r\\n39,male,26.22,1,no,northwest,6123.5688\\r\\n40,female,23.37,3,no,northeast,8252.2843\\r\\n18,male,28.5,0,no,northeast,1712.227\\r\\n58,female,32.965,0,no,northeast,12430.95335\\r\\n49,female,42.68,2,no,southeast,9800.8882\\r\\n53,female,39.6,1,no,southeast,10579.711\\r\\n48,female,31.13,0,no,southeast,8280.6227\\r\\n45,female,36.3,2,no,southeast,8527.532\\r\\n59,female,35.2,0,no,southeast,12244.531\\r\\n52,female,25.3,2,yes,southeast,24667.419\\r\\n26,female,42.4,1,no,southwest,3410.324\\r\\n27,male,33.155,2,no,northwest,4058.71245\\r\\n48,female,35.91,1,no,northeast,26392.26029\\r\\n57,female,28.785,4,no,northeast,14394.39815\\r\\n37,male,46.53,3,no,southeast,6435.6237\\r\\n57,female,23.98,1,no,southeast,22192.43711\\r\\n32,female,31.54,1,no,northeast,5148.5526\\r\\n18,male,33.66,0,no,southeast,1136.3994\\r\\n64,female,22.99,0,yes,southeast,27037.9141\\r\\n43,male,38.06,2,yes,southeast,42560.4304\\r\\n49,male,28.7,1,no,southwest,8703.456\\r\\n40,female,32.775,2,yes,northwest,40003.33225\\r\\n62,male,32.015,0,yes,northeast,45710.20785\\r\\n40,female,29.81,1,no,southeast,6500.2359\\r\\n30,male,31.57,3,no,southeast,4837.5823\\r\\n29,female,31.16,0,no,northeast,3943.5954\\r\\n36,male,29.7,0,no,southeast,4399.731\\r\\n41,female,31.02,0,no,southeast,6185.3208\\r\\n44,female,43.89,2,yes,southeast,46200.9851\\r\\n45,male,21.375,0,no,northwest,7222.78625\\r\\n55,female,40.81,3,no,southeast,12485.8009\\r\\n60,male,31.35,3,yes,northwest,46130.5265\\r\\n56,male,36.1,3,no,southwest,12363.547\\r\\n49,female,23.18,2,no,northwest,10156.7832\\r\\n21,female,17.4,1,no,southwest,2585.269\\r\\n19,male,20.3,0,no,southwest,1242.26\\r\\n39,male,35.3,2,yes,southwest,40103.89\\r\\n53,male,24.32,0,no,northwest,9863.4718\\r\\n33,female,18.5,1,no,southwest,4766.022\\r\\n53,male,26.41,2,no,northeast,11244.3769\\r\\n42,male,26.125,2,no,northeast,7729.64575\\r\\n40,male,41.69,0,no,southeast,5438.7491\\r\\n47,female,24.1,1,no,southwest,26236.57997\\r\\n27,male,31.13,1,yes,southeast,34806.4677\\r\\n21,male,27.36,0,no,northeast,2104.1134\\r\\n47,male,36.2,1,no,southwest,8068.185\\r\\n20,male,32.395,1,no,northwest,2362.22905\\r\\n24,male,23.655,0,no,northwest,2352.96845\\r\\n27,female,34.8,1,no,southwest,3577.999\\r\\n26,female,40.185,0,no,northwest,3201.24515\\r\\n53,female,32.3,2,no,northeast,29186.48236\\r\\n41,male,35.75,1,yes,southeast,40273.6455\\r\\n56,male,33.725,0,no,northwest,10976.24575\\r\\n23,female,39.27,2,no,southeast,3500.6123\\r\\n21,female,34.87,0,no,southeast,2020.5523\\r\\n50,female,44.745,0,no,northeast,9541.69555\\r\\n53,male,41.47,0,no,southeast,9504.3103\\r\\n34,female,26.41,1,no,northwest,5385.3379\\r\\n47,female,29.545,1,no,northwest,8930.93455\\r\\n33,female,32.9,2,no,southwest,5375.038\\r\\n51,female,38.06,0,yes,southeast,44400.4064\\r\\n49,male,28.69,3,no,northwest,10264.4421\\r\\n31,female,30.495,3,no,northeast,6113.23105\\r\\n36,female,27.74,0,no,northeast,5469.0066\\r\\n18,male,35.2,1,no,southeast,1727.54\\r\\n50,female,23.54,2,no,southeast,10107.2206\\r\\n43,female,30.685,2,no,northwest,8310.83915\\r\\n20,male,40.47,0,no,northeast,1984.4533\\r\\n24,female,22.6,0,no,southwest,2457.502\\r\\n60,male,28.9,0,no,southwest,12146.971\\r\\n49,female,22.61,1,no,northwest,9566.9909\\r\\n60,male,24.32,1,no,northwest,13112.6048\\r\\n51,female,36.67,2,no,northwest,10848.1343\\r\\n58,female,33.44,0,no,northwest,12231.6136\\r\\n51,female,40.66,0,no,northeast,9875.6804\\r\\n53,male,36.6,3,no,southwest,11264.541\\r\\n62,male,37.4,0,no,southwest,12979.358\\r\\n19,male,35.4,0,no,southwest,1263.249\\r\\n50,female,27.075,1,no,northeast,10106.13425\\r\\n30,female,39.05,3,yes,southeast,40932.4295\\r\\n41,male,28.405,1,no,northwest,6664.68595\\r\\n29,female,21.755,1,yes,northeast,16657.71745\\r\\n18,female,40.28,0,no,northeast,2217.6012\\r\\n41,female,36.08,1,no,southeast,6781.3542\\r\\n35,male,24.42,3,yes,southeast,19361.9988\\r\\n53,male,21.4,1,no,southwest,10065.413\\r\\n24,female,30.1,3,no,southwest,4234.927\\r\\n48,female,27.265,1,no,northeast,9447.25035\\r\\n59,female,32.1,3,no,southwest,14007.222\\r\\n49,female,34.77,1,no,northwest,9583.8933\\r\\n37,female,38.39,0,yes,southeast,40419.0191\\r\\n26,male,23.7,2,no,southwest,3484.331\\r\\n23,male,31.73,3,yes,northeast,36189.1017\\r\\n29,male,35.5,2,yes,southwest,44585.45587\\r\\n45,male,24.035,2,no,northeast,8604.48365\\r\\n27,male,29.15,0,yes,southeast,18246.4955\\r\\n53,male,34.105,0,yes,northeast,43254.41795\\r\\n31,female,26.62,0,no,southeast,3757.8448\\r\\n50,male,26.41,0,no,northwest,8827.2099\\r\\n50,female,30.115,1,no,northwest,9910.35985\\r\\n34,male,27,2,no,southwest,11737.84884\\r\\n19,male,21.755,0,no,northwest,1627.28245\\r\\n47,female,36,1,no,southwest,8556.907\\r\\n28,male,30.875,0,no,northwest,3062.50825\\r\\n37,female,26.4,0,yes,southeast,19539.243\\r\\n21,male,28.975,0,no,northwest,1906.35825\\r\\n64,male,37.905,0,no,northwest,14210.53595\\r\\n58,female,22.77,0,no,southeast,11833.7823\\r\\n24,male,33.63,4,no,northeast,17128.42608\\r\\n31,male,27.645,2,no,northeast,5031.26955\\r\\n39,female,22.8,3,no,northeast,7985.815\\r\\n47,female,27.83,0,yes,southeast,23065.4207\\r\\n30,male,37.43,3,no,northeast,5428.7277\\r\\n18,male,38.17,0,yes,southeast,36307.7983\\r\\n22,female,34.58,2,no,northeast,3925.7582\\r\\n23,male,35.2,1,no,southwest,2416.955\\r\\n33,male,27.1,1,yes,southwest,19040.876\\r\\n27,male,26.03,0,no,northeast,3070.8087\\r\\n45,female,25.175,2,no,northeast,9095.06825\\r\\n57,female,31.825,0,no,northwest,11842.62375\\r\\n47,male,32.3,1,no,southwest,8062.764\\r\\n42,female,29,1,no,southwest,7050.642\\r\\n64,female,39.7,0,no,southwest,14319.031\\r\\n38,female,19.475,2,no,northwest,6933.24225\\r\\n61,male,36.1,3,no,southwest,27941.28758\\r\\n53,female,26.7,2,no,southwest,11150.78\\r\\n44,female,36.48,0,no,northeast,12797.20962\\r\\n19,female,28.88,0,yes,northwest,17748.5062\\r\\n41,male,34.2,2,no,northwest,7261.741\\r\\n51,male,33.33,3,no,southeast,10560.4917\\r\\n40,male,32.3,2,no,northwest,6986.697\\r\\n45,male,39.805,0,no,northeast,7448.40395\\r\\n35,male,34.32,3,no,southeast,5934.3798\\r\\n53,male,28.88,0,no,northwest,9869.8102\\r\\n30,male,24.4,3,yes,southwest,18259.216\\r\\n18,male,41.14,0,no,southeast,1146.7966\\r\\n51,male,35.97,1,no,southeast,9386.1613\\r\\n50,female,27.6,1,yes,southwest,24520.264\\r\\n31,female,29.26,1,no,southeast,4350.5144\\r\\n35,female,27.7,3,no,southwest,6414.178\\r\\n60,male,36.955,0,no,northeast,12741.16745\\r\\n21,male,36.86,0,no,northwest,1917.3184\\r\\n29,male,22.515,3,no,northeast,5209.57885\\r\\n62,female,29.92,0,no,southeast,13457.9608\\r\\n39,female,41.8,0,no,southeast,5662.225\\r\\n19,male,27.6,0,no,southwest,1252.407\\r\\n22,female,23.18,0,no,northeast,2731.9122\\r\\n53,male,20.9,0,yes,southeast,21195.818\\r\\n39,female,31.92,2,no,northwest,7209.4918\\r\\n27,male,28.5,0,yes,northwest,18310.742\\r\\n30,male,44.22,2,no,southeast,4266.1658\\r\\n30,female,22.895,1,no,northeast,4719.52405\\r\\n58,female,33.1,0,no,southwest,11848.141\\r\\n33,male,24.795,0,yes,northeast,17904.52705\\r\\n42,female,26.18,1,no,southeast,7046.7222\\r\\n64,female,35.97,0,no,southeast,14313.8463\\r\\n21,male,22.3,1,no,southwest,2103.08\\r\\n18,female,42.24,0,yes,southeast,38792.6856\\r\\n23,male,26.51,0,no,southeast,1815.8759\\r\\n45,female,35.815,0,no,northwest,7731.85785\\r\\n40,female,41.42,1,no,northwest,28476.73499\\r\\n19,female,36.575,0,no,northwest,2136.88225\\r\\n18,male,30.14,0,no,southeast,1131.5066\\r\\n25,male,25.84,1,no,northeast,3309.7926\\r\\n46,female,30.8,3,no,southwest,9414.92\\r\\n33,female,42.94,3,no,northwest,6360.9936\\r\\n54,male,21.01,2,no,southeast,11013.7119\\r\\n28,male,22.515,2,no,northeast,4428.88785\\r\\n36,male,34.43,2,no,southeast,5584.3057\\r\\n20,female,31.46,0,no,southeast,1877.9294\\r\\n24,female,24.225,0,no,northwest,2842.76075\\r\\n23,male,37.1,3,no,southwest,3597.596\\r\\n47,female,26.125,1,yes,northeast,23401.30575\\r\\n33,female,35.53,0,yes,northwest,55135.40209\\r\\n45,male,33.7,1,no,southwest,7445.918\\r\\n26,male,17.67,0,no,northwest,2680.9493\\r\\n18,female,31.13,0,no,southeast,1621.8827\\r\\n44,female,29.81,2,no,southeast,8219.2039\\r\\n60,male,24.32,0,no,northwest,12523.6048\\r\\n64,female,31.825,2,no,northeast,16069.08475\\r\\n56,male,31.79,2,yes,southeast,43813.8661\\r\\n36,male,28.025,1,yes,northeast,20773.62775\\r\\n41,male,30.78,3,yes,northeast,39597.4072\\r\\n39,male,21.85,1,no,northwest,6117.4945\\r\\n63,male,33.1,0,no,southwest,13393.756\\r\\n36,female,25.84,0,no,northwest,5266.3656\\r\\n28,female,23.845,2,no,northwest,4719.73655\\r\\n58,male,34.39,0,no,northwest,11743.9341\\r\\n36,male,33.82,1,no,northwest,5377.4578\\r\\n42,male,35.97,2,no,southeast,7160.3303\\r\\n36,male,31.5,0,no,southwest,4402.233\\r\\n56,female,28.31,0,no,northeast,11657.7189\\r\\n35,female,23.465,2,no,northeast,6402.29135\\r\\n59,female,31.35,0,no,northwest,12622.1795\\r\\n21,male,31.1,0,no,southwest,1526.312\\r\\n59,male,24.7,0,no,northeast,12323.936\\r\\n23,female,32.78,2,yes,southeast,36021.0112\\r\\n57,female,29.81,0,yes,southeast,27533.9129\\r\\n53,male,30.495,0,no,northeast,10072.05505\\r\\n60,female,32.45,0,yes,southeast,45008.9555\\r\\n51,female,34.2,1,no,southwest,9872.701\\r\\n23,male,50.38,1,no,southeast,2438.0552\\r\\n27,female,24.1,0,no,southwest,2974.126\\r\\n55,male,32.775,0,no,northwest,10601.63225\\r\\n37,female,30.78,0,yes,northeast,37270.1512\\r\\n61,male,32.3,2,no,northwest,14119.62\\r\\n46,female,35.53,0,yes,northeast,42111.6647\\r\\n53,female,23.75,2,no,northeast,11729.6795\\r\\n49,female,23.845,3,yes,northeast,24106.91255\\r\\n20,female,29.6,0,no,southwest,1875.344\\r\\n48,female,33.11,0,yes,southeast,40974.1649\\r\\n25,male,24.13,0,yes,northwest,15817.9857\\r\\n25,female,32.23,1,no,southeast,18218.16139\\r\\n57,male,28.1,0,no,southwest,10965.446\\r\\n37,female,47.6,2,yes,southwest,46113.511\\r\\n38,female,28,3,no,southwest,7151.092\\r\\n55,female,33.535,2,no,northwest,12269.68865\\r\\n36,female,19.855,0,no,northeast,5458.04645\\r\\n51,male,25.4,0,no,southwest,8782.469\\r\\n40,male,29.9,2,no,southwest,6600.361\\r\\n18,male,37.29,0,no,southeast,1141.4451\\r\\n57,male,43.7,1,no,southwest,11576.13\\r\\n61,male,23.655,0,no,northeast,13129.60345\\r\\n25,female,24.3,3,no,southwest,4391.652\\r\\n50,male,36.2,0,no,southwest,8457.818\\r\\n26,female,29.48,1,no,southeast,3392.3652\\r\\n42,male,24.86,0,no,southeast,5966.8874\\r\\n43,male,30.1,1,no,southwest,6849.026\\r\\n44,male,21.85,3,no,northeast,8891.1395\\r\\n23,female,28.12,0,no,northwest,2690.1138\\r\\n49,female,27.1,1,no,southwest,26140.3603\\r\\n33,male,33.44,5,no,southeast,6653.7886\\r\\n41,male,28.8,1,no,southwest,6282.235\\r\\n37,female,29.5,2,no,southwest,6311.952\\r\\n22,male,34.8,3,no,southwest,3443.064\\r\\n23,male,27.36,1,no,northwest,2789.0574\\r\\n21,female,22.135,0,no,northeast,2585.85065\\r\\n51,female,37.05,3,yes,northeast,46255.1125\\r\\n25,male,26.695,4,no,northwest,4877.98105\\r\\n32,male,28.93,1,yes,southeast,19719.6947\\r\\n57,male,28.975,0,yes,northeast,27218.43725\\r\\n36,female,30.02,0,no,northwest,5272.1758\\r\\n22,male,39.5,0,no,southwest,1682.597\\r\\n57,male,33.63,1,no,northwest,11945.1327\\r\\n64,female,26.885,0,yes,northwest,29330.98315\\r\\n36,female,29.04,4,no,southeast,7243.8136\\r\\n54,male,24.035,0,no,northeast,10422.91665\\r\\n47,male,38.94,2,yes,southeast,44202.6536\\r\\n62,male,32.11,0,no,northeast,13555.0049\\r\\n61,female,44,0,no,southwest,13063.883\\r\\n43,female,20.045,2,yes,northeast,19798.05455\\r\\n19,male,25.555,1,no,northwest,2221.56445\\r\\n18,female,40.26,0,no,southeast,1634.5734\\r\\n19,female,22.515,0,no,northwest,2117.33885\\r\\n49,male,22.515,0,no,northeast,8688.85885\\r\\n60,male,40.92,0,yes,southeast,48673.5588\\r\\n26,male,27.265,3,no,northeast,4661.28635\\r\\n49,male,36.85,0,no,southeast,8125.7845\\r\\n60,female,35.1,0,no,southwest,12644.589\\r\\n26,female,29.355,2,no,northeast,4564.19145\\r\\n27,male,32.585,3,no,northeast,4846.92015\\r\\n44,female,32.34,1,no,southeast,7633.7206\\r\\n63,male,39.8,3,no,southwest,15170.069\\r\\n32,female,24.6,0,yes,southwest,17496.306\\r\\n22,male,28.31,1,no,northwest,2639.0429\\r\\n18,male,31.73,0,yes,northeast,33732.6867\\r\\n59,female,26.695,3,no,northwest,14382.70905\\r\\n44,female,27.5,1,no,southwest,7626.993\\r\\n33,male,24.605,2,no,northwest,5257.50795\\r\\n24,female,33.99,0,no,southeast,2473.3341\\r\\n43,female,26.885,0,yes,northwest,21774.32215\\r\\n45,male,22.895,0,yes,northeast,35069.37452\\r\\n61,female,28.2,0,no,southwest,13041.921\\r\\n35,female,34.21,1,no,southeast,5245.2269\\r\\n62,female,25,0,no,southwest,13451.122\\r\\n62,female,33.2,0,no,southwest,13462.52\\r\\n38,male,31,1,no,southwest,5488.262\\r\\n34,male,35.815,0,no,northwest,4320.41085\\r\\n43,male,23.2,0,no,southwest,6250.435\\r\\n50,male,32.11,2,no,northeast,25333.33284\\r\\n19,female,23.4,2,no,southwest,2913.569\\r\\n57,female,20.1,1,no,southwest,12032.326\\r\\n62,female,39.16,0,no,southeast,13470.8044\\r\\n41,male,34.21,1,no,southeast,6289.7549\\r\\n26,male,46.53,1,no,southeast,2927.0647\\r\\n39,female,32.5,1,no,southwest,6238.298\\r\\n46,male,25.8,5,no,southwest,10096.97\\r\\n45,female,35.3,0,no,southwest,7348.142\\r\\n32,male,37.18,2,no,southeast,4673.3922\\r\\n59,female,27.5,0,no,southwest,12233.828\\r\\n44,male,29.735,2,no,northeast,32108.66282\\r\\n39,female,24.225,5,no,northwest,8965.79575\\r\\n18,male,26.18,2,no,southeast,2304.0022\\r\\n53,male,29.48,0,no,southeast,9487.6442\\r\\n18,male,23.21,0,no,southeast,1121.8739\\r\\n50,female,46.09,1,no,southeast,9549.5651\\r\\n18,female,40.185,0,no,northeast,2217.46915\\r\\n19,male,22.61,0,no,northwest,1628.4709\\r\\n62,male,39.93,0,no,southeast,12982.8747\\r\\n56,female,35.8,1,no,southwest,11674.13\\r\\n42,male,35.8,2,no,southwest,7160.094\\r\\n37,male,34.2,1,yes,northeast,39047.285\\r\\n42,male,31.255,0,no,northwest,6358.77645\\r\\n25,male,29.7,3,yes,southwest,19933.458\\r\\n57,male,18.335,0,no,northeast,11534.87265\\r\\n51,male,42.9,2,yes,southeast,47462.894\\r\\n30,female,28.405,1,no,northwest,4527.18295\\r\\n44,male,30.2,2,yes,southwest,38998.546\\r\\n34,male,27.835,1,yes,northwest,20009.63365\\r\\n31,male,39.49,1,no,southeast,3875.7341\\r\\n54,male,30.8,1,yes,southeast,41999.52\\r\\n24,male,26.79,1,no,northwest,12609.88702\\r\\n43,male,34.96,1,yes,northeast,41034.2214\\r\\n48,male,36.67,1,no,northwest,28468.91901\\r\\n19,female,39.615,1,no,northwest,2730.10785\\r\\n29,female,25.9,0,no,southwest,3353.284\\r\\n63,female,35.2,1,no,southeast,14474.675\\r\\n46,male,24.795,3,no,northeast,9500.57305\\r\\n52,male,36.765,2,no,northwest,26467.09737\\r\\n35,male,27.1,1,no,southwest,4746.344\\r\\n51,male,24.795,2,yes,northwest,23967.38305\\r\\n44,male,25.365,1,no,northwest,7518.02535\\r\\n21,male,25.745,2,no,northeast,3279.86855\\r\\n39,female,34.32,5,no,southeast,8596.8278\\r\\n50,female,28.16,3,no,southeast,10702.6424\\r\\n34,female,23.56,0,no,northeast,4992.3764\\r\\n22,female,20.235,0,no,northwest,2527.81865\\r\\n19,female,40.5,0,no,southwest,1759.338\\r\\n26,male,35.42,0,no,southeast,2322.6218\\r\\n29,male,22.895,0,yes,northeast,16138.76205\\r\\n48,male,40.15,0,no,southeast,7804.1605\\r\\n26,male,29.15,1,no,southeast,2902.9065\\r\\n45,female,39.995,3,no,northeast,9704.66805\\r\\n36,female,29.92,0,no,southeast,4889.0368\\r\\n54,male,25.46,1,no,northeast,25517.11363\\r\\n34,male,21.375,0,no,northeast,4500.33925\\r\\n31,male,25.9,3,yes,southwest,19199.944\\r\\n27,female,30.59,1,no,northeast,16796.41194\\r\\n20,male,30.115,5,no,northeast,4915.05985\\r\\n44,female,25.8,1,no,southwest,7624.63\\r\\n43,male,30.115,3,no,northwest,8410.04685\\r\\n45,female,27.645,1,no,northwest,28340.18885\\r\\n34,male,34.675,0,no,northeast,4518.82625\\r\\n24,female,20.52,0,yes,northeast,14571.8908\\r\\n26,female,19.8,1,no,southwest,3378.91\\r\\n38,female,27.835,2,no,northeast,7144.86265\\r\\n50,female,31.6,2,no,southwest,10118.424\\r\\n38,male,28.27,1,no,southeast,5484.4673\\r\\n27,female,20.045,3,yes,northwest,16420.49455\\r\\n39,female,23.275,3,no,northeast,7986.47525\\r\\n39,female,34.1,3,no,southwest,7418.522\\r\\n63,female,36.85,0,no,southeast,13887.9685\\r\\n33,female,36.29,3,no,northeast,6551.7501\\r\\n36,female,26.885,0,no,northwest,5267.81815\\r\\n30,male,22.99,2,yes,northwest,17361.7661\\r\\n24,male,32.7,0,yes,southwest,34472.841\\r\\n24,male,25.8,0,no,southwest,1972.95\\r\\n48,male,29.6,0,no,southwest,21232.18226\\r\\n47,male,19.19,1,no,northeast,8627.5411\\r\\n29,male,31.73,2,no,northwest,4433.3877\\r\\n28,male,29.26,2,no,northeast,4438.2634\\r\\n47,male,28.215,3,yes,northwest,24915.22085\\r\\n25,male,24.985,2,no,northeast,23241.47453\\r\\n51,male,27.74,1,no,northeast,9957.7216\\r\\n48,female,22.8,0,no,southwest,8269.044\\r\\n43,male,20.13,2,yes,southeast,18767.7377\\r\\n61,female,33.33,4,no,southeast,36580.28216\\r\\n48,male,32.3,1,no,northwest,8765.249\\r\\n38,female,27.6,0,no,southwest,5383.536\\r\\n59,male,25.46,0,no,northwest,12124.9924\\r\\n19,female,24.605,1,no,northwest,2709.24395\\r\\n26,female,34.2,2,no,southwest,3987.926\\r\\n54,female,35.815,3,no,northwest,12495.29085\\r\\n21,female,32.68,2,no,northwest,26018.95052\\r\\n51,male,37,0,no,southwest,8798.593\\r\\n22,female,31.02,3,yes,southeast,35595.5898\\r\\n47,male,36.08,1,yes,southeast,42211.1382\\r\\n18,male,23.32,1,no,southeast,1711.0268\\r\\n47,female,45.32,1,no,southeast,8569.8618\\r\\n21,female,34.6,0,no,southwest,2020.177\\r\\n19,male,26.03,1,yes,northwest,16450.8947\\r\\n23,male,18.715,0,no,northwest,21595.38229\\r\\n54,male,31.6,0,no,southwest,9850.432\\r\\n37,female,17.29,2,no,northeast,6877.9801\\r\\n46,female,23.655,1,yes,northwest,21677.28345\\r\\n55,female,35.2,0,yes,southeast,44423.803\\r\\n30,female,27.93,0,no,northeast,4137.5227\\r\\n18,male,21.565,0,yes,northeast,13747.87235\\r\\n61,male,38.38,0,no,northwest,12950.0712\\r\\n54,female,23,3,no,southwest,12094.478\\r\\n22,male,37.07,2,yes,southeast,37484.4493\\r\\n45,female,30.495,1,yes,northwest,39725.51805\\r\\n22,male,28.88,0,no,northeast,2250.8352\\r\\n19,male,27.265,2,no,northwest,22493.65964\\r\\n35,female,28.025,0,yes,northwest,20234.85475\\r\\n18,male,23.085,0,no,northeast,1704.70015\\r\\n20,male,30.685,0,yes,northeast,33475.81715\\r\\n28,female,25.8,0,no,southwest,3161.454\\r\\n55,male,35.245,1,no,northeast,11394.06555\\r\\n43,female,24.7,2,yes,northwest,21880.82\\r\\n43,female,25.08,0,no,northeast,7325.0482\\r\\n22,male,52.58,1,yes,southeast,44501.3982\\r\\n25,female,22.515,1,no,northwest,3594.17085\\r\\n49,male,30.9,0,yes,southwest,39727.614\\r\\n44,female,36.955,1,no,northwest,8023.13545\\r\\n64,male,26.41,0,no,northeast,14394.5579\\r\\n49,male,29.83,1,no,northeast,9288.0267\\r\\n47,male,29.8,3,yes,southwest,25309.489\\r\\n27,female,21.47,0,no,northwest,3353.4703\\r\\n55,male,27.645,0,no,northwest,10594.50155\\r\\n48,female,28.9,0,no,southwest,8277.523\\r\\n45,female,31.79,0,no,southeast,17929.30337\\r\\n24,female,39.49,0,no,southeast,2480.9791\\r\\n32,male,33.82,1,no,northwest,4462.7218\\r\\n24,male,32.01,0,no,southeast,1981.5819\\r\\n57,male,27.94,1,no,southeast,11554.2236\\r\\n59,male,41.14,1,yes,southeast,48970.2476\\r\\n36,male,28.595,3,no,northwest,6548.19505\\r\\n29,female,25.6,4,no,southwest,5708.867\\r\\n42,female,25.3,1,no,southwest,7045.499\\r\\n48,male,37.29,2,no,southeast,8978.1851\\r\\n39,male,42.655,0,no,northeast,5757.41345\\r\\n63,male,21.66,1,no,northwest,14349.8544\\r\\n54,female,31.9,1,no,southeast,10928.849\\r\\n37,male,37.07,1,yes,southeast,39871.7043\\r\\n63,male,31.445,0,no,northeast,13974.45555\\r\\n21,male,31.255,0,no,northwest,1909.52745\\r\\n54,female,28.88,2,no,northeast,12096.6512\\r\\n60,female,18.335,0,no,northeast,13204.28565\\r\\n32,female,29.59,1,no,southeast,4562.8421\\r\\n47,female,32,1,no,southwest,8551.347\\r\\n21,male,26.03,0,no,northeast,2102.2647\\r\\n28,male,31.68,0,yes,southeast,34672.1472\\r\\n63,male,33.66,3,no,southeast,15161.5344\\r\\n18,male,21.78,2,no,southeast,11884.04858\\r\\n32,male,27.835,1,no,northwest,4454.40265\\r\\n38,male,19.95,1,no,northwest,5855.9025\\r\\n32,male,31.5,1,no,southwest,4076.497\\r\\n62,female,30.495,2,no,northwest,15019.76005\\r\\n39,female,18.3,5,yes,southwest,19023.26\\r\\n55,male,28.975,0,no,northeast,10796.35025\\r\\n57,male,31.54,0,no,northwest,11353.2276\\r\\n52,male,47.74,1,no,southeast,9748.9106\\r\\n56,male,22.1,0,no,southwest,10577.087\\r\\n47,male,36.19,0,yes,southeast,41676.0811\\r\\n55,female,29.83,0,no,northeast,11286.5387\\r\\n23,male,32.7,3,no,southwest,3591.48\\r\\n22,female,30.4,0,yes,northwest,33907.548\\r\\n50,female,33.7,4,no,southwest,11299.343\\r\\n18,female,31.35,4,no,northeast,4561.1885\\r\\n51,female,34.96,2,yes,northeast,44641.1974\\r\\n22,male,33.77,0,no,southeast,1674.6323\\r\\n52,female,30.875,0,no,northeast,23045.56616\\r\\n25,female,33.99,1,no,southeast,3227.1211\\r\\n33,female,19.095,2,yes,northeast,16776.30405\\r\\n53,male,28.6,3,no,southwest,11253.421\\r\\n29,male,38.94,1,no,southeast,3471.4096\\r\\n58,male,36.08,0,no,southeast,11363.2832\\r\\n37,male,29.8,0,no,southwest,20420.60465\\r\\n54,female,31.24,0,no,southeast,10338.9316\\r\\n49,female,29.925,0,no,northwest,8988.15875\\r\\n50,female,26.22,2,no,northwest,10493.9458\\r\\n26,male,30,1,no,southwest,2904.088\\r\\n45,male,20.35,3,no,southeast,8605.3615\\r\\n54,female,32.3,1,no,northeast,11512.405\\r\\n38,male,38.39,3,yes,southeast,41949.2441\\r\\n48,female,25.85,3,yes,southeast,24180.9335\\r\\n28,female,26.315,3,no,northwest,5312.16985\\r\\n23,male,24.51,0,no,northeast,2396.0959\\r\\n55,male,32.67,1,no,southeast,10807.4863\\r\\n41,male,29.64,5,no,northeast,9222.4026\\r\\n25,male,33.33,2,yes,southeast,36124.5737\\r\\n33,male,35.75,1,yes,southeast,38282.7495\\r\\n30,female,19.95,3,no,northwest,5693.4305\\r\\n23,female,31.4,0,yes,southwest,34166.273\\r\\n46,male,38.17,2,no,southeast,8347.1643\\r\\n53,female,36.86,3,yes,northwest,46661.4424\\r\\n27,female,32.395,1,no,northeast,18903.49141\\r\\n23,female,42.75,1,yes,northeast,40904.1995\\r\\n63,female,25.08,0,no,northwest,14254.6082\\r\\n55,male,29.9,0,no,southwest,10214.636\\r\\n35,female,35.86,2,no,southeast,5836.5204\\r\\n34,male,32.8,1,no,southwest,14358.36437\\r\\n19,female,18.6,0,no,southwest,1728.897\\r\\n39,female,23.87,5,no,southeast,8582.3023\\r\\n27,male,45.9,2,no,southwest,3693.428\\r\\n57,male,40.28,0,no,northeast,20709.02034\\r\\n52,female,18.335,0,no,northwest,9991.03765\\r\\n28,male,33.82,0,no,northwest,19673.33573\\r\\n50,female,28.12,3,no,northwest,11085.5868\\r\\n44,female,25,1,no,southwest,7623.518\\r\\n26,female,22.23,0,no,northwest,3176.2877\\r\\n33,male,30.25,0,no,southeast,3704.3545\\r\\n19,female,32.49,0,yes,northwest,36898.73308\\r\\n50,male,37.07,1,no,southeast,9048.0273\\r\\n41,female,32.6,3,no,southwest,7954.517\\r\\n52,female,24.86,0,no,southeast,27117.99378\\r\\n39,male,32.34,2,no,southeast,6338.0756\\r\\n50,male,32.3,2,no,southwest,9630.397\\r\\n52,male,32.775,3,no,northwest,11289.10925\\r\\n60,male,32.8,0,yes,southwest,52590.82939\\r\\n20,female,31.92,0,no,northwest,2261.5688\\r\\n55,male,21.5,1,no,southwest,10791.96\\r\\n42,male,34.1,0,no,southwest,5979.731\\r\\n18,female,30.305,0,no,northeast,2203.73595\\r\\n58,female,36.48,0,no,northwest,12235.8392\\r\\n43,female,32.56,3,yes,southeast,40941.2854\\r\\n35,female,35.815,1,no,northwest,5630.45785\\r\\n48,female,27.93,4,no,northwest,11015.1747\\r\\n36,female,22.135,3,no,northeast,7228.21565\\r\\n19,male,44.88,0,yes,southeast,39722.7462\\r\\n23,female,23.18,2,no,northwest,14426.07385\\r\\n20,female,30.59,0,no,northeast,2459.7201\\r\\n32,female,41.1,0,no,southwest,3989.841\\r\\n43,female,34.58,1,no,northwest,7727.2532\\r\\n34,male,42.13,2,no,southeast,5124.1887\\r\\n30,male,38.83,1,no,southeast,18963.17192\\r\\n18,female,28.215,0,no,northeast,2200.83085\\r\\n41,female,28.31,1,no,northwest,7153.5539\\r\\n35,female,26.125,0,no,northeast,5227.98875\\r\\n57,male,40.37,0,no,southeast,10982.5013\\r\\n29,female,24.6,2,no,southwest,4529.477\\r\\n32,male,35.2,2,no,southwest,4670.64\\r\\n37,female,34.105,1,no,northwest,6112.35295\\r\\n18,male,27.36,1,yes,northeast,17178.6824\\r\\n43,female,26.7,2,yes,southwest,22478.6\\r\\n56,female,41.91,0,no,southeast,11093.6229\\r\\n38,male,29.26,2,no,northwest,6457.8434\\r\\n29,male,32.11,2,no,northwest,4433.9159\\r\\n22,female,27.1,0,no,southwest,2154.361\\r\\n52,female,24.13,1,yes,northwest,23887.6627\\r\\n40,female,27.4,1,no,southwest,6496.886\\r\\n23,female,34.865,0,no,northeast,2899.48935\\r\\n31,male,29.81,0,yes,southeast,19350.3689\\r\\n42,female,41.325,1,no,northeast,7650.77375\\r\\n24,female,29.925,0,no,northwest,2850.68375\\r\\n25,female,30.3,0,no,southwest,2632.992\\r\\n48,female,27.36,1,no,northeast,9447.3824\\r\\n23,female,28.49,1,yes,southeast,18328.2381\\r\\n45,male,23.56,2,no,northeast,8603.8234\\r\\n20,male,35.625,3,yes,northwest,37465.34375\\r\\n62,female,32.68,0,no,northwest,13844.7972\\r\\n43,female,25.27,1,yes,northeast,21771.3423\\r\\n23,female,28,0,no,southwest,13126.67745\\r\\n31,female,32.775,2,no,northwest,5327.40025\\r\\n41,female,21.755,1,no,northeast,13725.47184\\r\\n58,female,32.395,1,no,northeast,13019.16105\\r\\n48,female,36.575,0,no,northwest,8671.19125\\r\\n31,female,21.755,0,no,northwest,4134.08245\\r\\n19,female,27.93,3,no,northwest,18838.70366\\r\\n19,female,30.02,0,yes,northwest,33307.5508\\r\\n41,male,33.55,0,no,southeast,5699.8375\\r\\n40,male,29.355,1,no,northwest,6393.60345\\r\\n31,female,25.8,2,no,southwest,4934.705\\r\\n37,male,24.32,2,no,northwest,6198.7518\\r\\n46,male,40.375,2,no,northwest,8733.22925\\r\\n22,male,32.11,0,no,northwest,2055.3249\\r\\n51,male,32.3,1,no,northeast,9964.06\\r\\n18,female,27.28,3,yes,southeast,18223.4512\\r\\n35,male,17.86,1,no,northwest,5116.5004\\r\\n59,female,34.8,2,no,southwest,36910.60803\\r\\n36,male,33.4,2,yes,southwest,38415.474\\r\\n37,female,25.555,1,yes,northeast,20296.86345\\r\\n59,male,37.1,1,no,southwest,12347.172\\r\\n36,male,30.875,1,no,northwest,5373.36425\\r\\n39,male,34.1,2,no,southeast,23563.01618\\r\\n18,male,21.47,0,no,northeast,1702.4553\\r\\n52,female,33.3,2,no,southwest,10806.839\\r\\n27,female,31.255,1,no,northwest,3956.07145\\r\\n18,male,39.14,0,no,northeast,12890.05765\\r\\n40,male,25.08,0,no,southeast,5415.6612\\r\\n29,male,37.29,2,no,southeast,4058.1161\\r\\n46,female,34.6,1,yes,southwest,41661.602\\r\\n38,female,30.21,3,no,northwest,7537.1639\\r\\n30,female,21.945,1,no,northeast,4718.20355\\r\\n40,male,24.97,2,no,southeast,6593.5083\\r\\n50,male,25.3,0,no,southeast,8442.667\\r\\n20,female,24.42,0,yes,southeast,26125.67477\\r\\n41,male,23.94,1,no,northeast,6858.4796\\r\\n33,female,39.82,1,no,southeast,4795.6568\\r\\n38,male,16.815,2,no,northeast,6640.54485\\r\\n42,male,37.18,2,no,southeast,7162.0122\\r\\n56,male,34.43,0,no,southeast,10594.2257\\r\\n58,male,30.305,0,no,northeast,11938.25595\\r\\n52,male,34.485,3,yes,northwest,60021.39897\\r\\n20,female,21.8,0,yes,southwest,20167.33603\\r\\n54,female,24.605,3,no,northwest,12479.70895\\r\\n58,male,23.3,0,no,southwest,11345.519\\r\\n45,female,27.83,2,no,southeast,8515.7587\\r\\n26,male,31.065,0,no,northwest,2699.56835\\r\\n63,female,21.66,0,no,northeast,14449.8544\\r\\n58,female,28.215,0,no,northwest,12224.35085\\r\\n37,male,22.705,3,no,northeast,6985.50695\\r\\n25,female,42.13,1,no,southeast,3238.4357\\r\\n52,male,41.8,2,yes,southeast,47269.854\\r\\n64,male,36.96,2,yes,southeast,49577.6624\\r\\n22,female,21.28,3,no,northwest,4296.2712\\r\\n28,female,33.11,0,no,southeast,3171.6149\\r\\n18,male,33.33,0,no,southeast,1135.9407\\r\\n28,male,24.3,5,no,southwest,5615.369\\r\\n45,female,25.7,3,no,southwest,9101.798\\r\\n33,male,29.4,4,no,southwest,6059.173\\r\\n18,female,39.82,0,no,southeast,1633.9618\\r\\n32,male,33.63,1,yes,northeast,37607.5277\\r\\n24,male,29.83,0,yes,northeast,18648.4217\\r\\n19,male,19.8,0,no,southwest,1241.565\\r\\n20,male,27.3,0,yes,southwest,16232.847\\r\\n40,female,29.3,4,no,southwest,15828.82173\\r\\n34,female,27.72,0,no,southeast,4415.1588\\r\\n42,female,37.9,0,no,southwest,6474.013\\r\\n51,female,36.385,3,no,northwest,11436.73815\\r\\n54,female,27.645,1,no,northwest,11305.93455\\r\\n55,male,37.715,3,no,northwest,30063.58055\\r\\n52,female,23.18,0,no,northeast,10197.7722\\r\\n32,female,20.52,0,no,northeast,4544.2348\\r\\n28,male,37.1,1,no,southwest,3277.161\\r\\n41,female,28.05,1,no,southeast,6770.1925\\r\\n43,female,29.9,1,no,southwest,7337.748\\r\\n49,female,33.345,2,no,northeast,10370.91255\\r\\n64,male,23.76,0,yes,southeast,26926.5144\\r\\n55,female,30.5,0,no,southwest,10704.47\\r\\n24,male,31.065,0,yes,northeast,34254.05335\\r\\n20,female,33.3,0,no,southwest,1880.487\\r\\n45,male,27.5,3,no,southwest,8615.3\\r\\n26,male,33.915,1,no,northwest,3292.52985\\r\\n25,female,34.485,0,no,northwest,3021.80915\\r\\n43,male,25.52,5,no,southeast,14478.33015\\r\\n35,male,27.61,1,no,southeast,4747.0529\\r\\n26,male,27.06,0,yes,southeast,17043.3414\\r\\n57,male,23.7,0,no,southwest,10959.33\\r\\n22,female,30.4,0,no,northeast,2741.948\\r\\n32,female,29.735,0,no,northwest,4357.04365\\r\\n39,male,29.925,1,yes,northeast,22462.04375\\r\\n25,female,26.79,2,no,northwest,4189.1131\\r\\n48,female,33.33,0,no,southeast,8283.6807\\r\\n47,female,27.645,2,yes,northwest,24535.69855\\r\\n18,female,21.66,0,yes,northeast,14283.4594\\r\\n18,male,30.03,1,no,southeast,1720.3537\\r\\n61,male,36.3,1,yes,southwest,47403.88\\r\\n47,female,24.32,0,no,northeast,8534.6718\\r\\n28,female,17.29,0,no,northeast,3732.6251\\r\\n36,female,25.9,1,no,southwest,5472.449\\r\\n20,male,39.4,2,yes,southwest,38344.566\\r\\n44,male,34.32,1,no,southeast,7147.4728\\r\\n38,female,19.95,2,no,northeast,7133.9025\\r\\n19,male,34.9,0,yes,southwest,34828.654\\r\\n21,male,23.21,0,no,southeast,1515.3449\\r\\n46,male,25.745,3,no,northwest,9301.89355\\r\\n58,male,25.175,0,no,northeast,11931.12525\\r\\n20,male,22,1,no,southwest,1964.78\\r\\n18,male,26.125,0,no,northeast,1708.92575\\r\\n28,female,26.51,2,no,southeast,4340.4409\\r\\n33,male,27.455,2,no,northwest,5261.46945\\r\\n19,female,25.745,1,no,northwest,2710.82855\\r\\n45,male,30.36,0,yes,southeast,62592.87309\\r\\n62,male,30.875,3,yes,northwest,46718.16325\\r\\n25,female,20.8,1,no,southwest,3208.787\\r\\n43,male,27.8,0,yes,southwest,37829.7242\\r\\n42,male,24.605,2,yes,northeast,21259.37795\\r\\n24,female,27.72,0,no,southeast,2464.6188\\r\\n29,female,21.85,0,yes,northeast,16115.3045\\r\\n32,male,28.12,4,yes,northwest,21472.4788\\r\\n25,female,30.2,0,yes,southwest,33900.653\\r\\n41,male,32.2,2,no,southwest,6875.961\\r\\n42,male,26.315,1,no,northwest,6940.90985\\r\\n33,female,26.695,0,no,northwest,4571.41305\\r\\n34,male,42.9,1,no,southwest,4536.259\\r\\n19,female,34.7,2,yes,southwest,36397.576\\r\\n30,female,23.655,3,yes,northwest,18765.87545\\r\\n18,male,28.31,1,no,northeast,11272.33139\\r\\n19,female,20.6,0,no,southwest,1731.677\\r\\n18,male,53.13,0,no,southeast,1163.4627\\r\\n35,male,39.71,4,no,northeast,19496.71917\\r\\n39,female,26.315,2,no,northwest,7201.70085\\r\\n31,male,31.065,3,no,northwest,5425.02335\\r\\n62,male,26.695,0,yes,northeast,28101.33305\\r\\n62,male,38.83,0,no,southeast,12981.3457\\r\\n42,female,40.37,2,yes,southeast,43896.3763\\r\\n31,male,25.935,1,no,northwest,4239.89265\\r\\n61,male,33.535,0,no,northeast,13143.33665\\r\\n42,female,32.87,0,no,northeast,7050.0213\\r\\n51,male,30.03,1,no,southeast,9377.9047\\r\\n23,female,24.225,2,no,northeast,22395.74424\\r\\n52,male,38.6,2,no,southwest,10325.206\\r\\n57,female,25.74,2,no,southeast,12629.1656\\r\\n23,female,33.4,0,no,southwest,10795.93733\\r\\n52,female,44.7,3,no,southwest,11411.685\\r\\n50,male,30.97,3,no,northwest,10600.5483\\r\\n18,female,31.92,0,no,northeast,2205.9808\\r\\n18,female,36.85,0,no,southeast,1629.8335\\r\\n21,female,25.8,0,no,southwest,2007.945\\r\\n61,female,29.07,0,yes,northwest,29141.3603\\r\\n'}"
            ]
          },
          "metadata": {},
          "execution_count": 100
        }
      ]
    },
    {
      "cell_type": "code",
      "source": [
        "#reading file\n",
        "Insurance=pd.read_csv(\"insurance.csv\")"
      ],
      "metadata": {
        "id": "MmWG9Keb1YVf"
      },
      "execution_count": null,
      "outputs": []
    },
    {
      "cell_type": "code",
      "source": [
        "Insurance.head()"
      ],
      "metadata": {
        "colab": {
          "base_uri": "https://localhost:8080/",
          "height": 206
        },
        "id": "_DyIfHMx1ooP",
        "outputId": "e625e9c8-805a-4a11-d8e2-ada0b37dcf6e"
      },
      "execution_count": null,
      "outputs": [
        {
          "output_type": "execute_result",
          "data": {
            "text/plain": [
              "   age     sex     bmi  children smoker     region      charges\n",
              "0   19  female  27.900         0    yes  southwest  16884.92400\n",
              "1   18    male  33.770         1     no  southeast   1725.55230\n",
              "2   28    male  33.000         3     no  southeast   4449.46200\n",
              "3   33    male  22.705         0     no  northwest  21984.47061\n",
              "4   32    male  28.880         0     no  northwest   3866.85520"
            ],
            "text/html": [
              "\n",
              "  <div id=\"df-5d6fb16b-2106-4e64-9d8c-4bda825402b3\" class=\"colab-df-container\">\n",
              "    <div>\n",
              "<style scoped>\n",
              "    .dataframe tbody tr th:only-of-type {\n",
              "        vertical-align: middle;\n",
              "    }\n",
              "\n",
              "    .dataframe tbody tr th {\n",
              "        vertical-align: top;\n",
              "    }\n",
              "\n",
              "    .dataframe thead th {\n",
              "        text-align: right;\n",
              "    }\n",
              "</style>\n",
              "<table border=\"1\" class=\"dataframe\">\n",
              "  <thead>\n",
              "    <tr style=\"text-align: right;\">\n",
              "      <th></th>\n",
              "      <th>age</th>\n",
              "      <th>sex</th>\n",
              "      <th>bmi</th>\n",
              "      <th>children</th>\n",
              "      <th>smoker</th>\n",
              "      <th>region</th>\n",
              "      <th>charges</th>\n",
              "    </tr>\n",
              "  </thead>\n",
              "  <tbody>\n",
              "    <tr>\n",
              "      <th>0</th>\n",
              "      <td>19</td>\n",
              "      <td>female</td>\n",
              "      <td>27.900</td>\n",
              "      <td>0</td>\n",
              "      <td>yes</td>\n",
              "      <td>southwest</td>\n",
              "      <td>16884.92400</td>\n",
              "    </tr>\n",
              "    <tr>\n",
              "      <th>1</th>\n",
              "      <td>18</td>\n",
              "      <td>male</td>\n",
              "      <td>33.770</td>\n",
              "      <td>1</td>\n",
              "      <td>no</td>\n",
              "      <td>southeast</td>\n",
              "      <td>1725.55230</td>\n",
              "    </tr>\n",
              "    <tr>\n",
              "      <th>2</th>\n",
              "      <td>28</td>\n",
              "      <td>male</td>\n",
              "      <td>33.000</td>\n",
              "      <td>3</td>\n",
              "      <td>no</td>\n",
              "      <td>southeast</td>\n",
              "      <td>4449.46200</td>\n",
              "    </tr>\n",
              "    <tr>\n",
              "      <th>3</th>\n",
              "      <td>33</td>\n",
              "      <td>male</td>\n",
              "      <td>22.705</td>\n",
              "      <td>0</td>\n",
              "      <td>no</td>\n",
              "      <td>northwest</td>\n",
              "      <td>21984.47061</td>\n",
              "    </tr>\n",
              "    <tr>\n",
              "      <th>4</th>\n",
              "      <td>32</td>\n",
              "      <td>male</td>\n",
              "      <td>28.880</td>\n",
              "      <td>0</td>\n",
              "      <td>no</td>\n",
              "      <td>northwest</td>\n",
              "      <td>3866.85520</td>\n",
              "    </tr>\n",
              "  </tbody>\n",
              "</table>\n",
              "</div>\n",
              "    <div class=\"colab-df-buttons\">\n",
              "\n",
              "  <div class=\"colab-df-container\">\n",
              "    <button class=\"colab-df-convert\" onclick=\"convertToInteractive('df-5d6fb16b-2106-4e64-9d8c-4bda825402b3')\"\n",
              "            title=\"Convert this dataframe to an interactive table.\"\n",
              "            style=\"display:none;\">\n",
              "\n",
              "  <svg xmlns=\"http://www.w3.org/2000/svg\" height=\"24px\" viewBox=\"0 -960 960 960\">\n",
              "    <path d=\"M120-120v-720h720v720H120Zm60-500h600v-160H180v160Zm220 220h160v-160H400v160Zm0 220h160v-160H400v160ZM180-400h160v-160H180v160Zm440 0h160v-160H620v160ZM180-180h160v-160H180v160Zm440 0h160v-160H620v160Z\"/>\n",
              "  </svg>\n",
              "    </button>\n",
              "\n",
              "  <style>\n",
              "    .colab-df-container {\n",
              "      display:flex;\n",
              "      gap: 12px;\n",
              "    }\n",
              "\n",
              "    .colab-df-convert {\n",
              "      background-color: #E8F0FE;\n",
              "      border: none;\n",
              "      border-radius: 50%;\n",
              "      cursor: pointer;\n",
              "      display: none;\n",
              "      fill: #1967D2;\n",
              "      height: 32px;\n",
              "      padding: 0 0 0 0;\n",
              "      width: 32px;\n",
              "    }\n",
              "\n",
              "    .colab-df-convert:hover {\n",
              "      background-color: #E2EBFA;\n",
              "      box-shadow: 0px 1px 2px rgba(60, 64, 67, 0.3), 0px 1px 3px 1px rgba(60, 64, 67, 0.15);\n",
              "      fill: #174EA6;\n",
              "    }\n",
              "\n",
              "    .colab-df-buttons div {\n",
              "      margin-bottom: 4px;\n",
              "    }\n",
              "\n",
              "    [theme=dark] .colab-df-convert {\n",
              "      background-color: #3B4455;\n",
              "      fill: #D2E3FC;\n",
              "    }\n",
              "\n",
              "    [theme=dark] .colab-df-convert:hover {\n",
              "      background-color: #434B5C;\n",
              "      box-shadow: 0px 1px 3px 1px rgba(0, 0, 0, 0.15);\n",
              "      filter: drop-shadow(0px 1px 2px rgba(0, 0, 0, 0.3));\n",
              "      fill: #FFFFFF;\n",
              "    }\n",
              "  </style>\n",
              "\n",
              "    <script>\n",
              "      const buttonEl =\n",
              "        document.querySelector('#df-5d6fb16b-2106-4e64-9d8c-4bda825402b3 button.colab-df-convert');\n",
              "      buttonEl.style.display =\n",
              "        google.colab.kernel.accessAllowed ? 'block' : 'none';\n",
              "\n",
              "      async function convertToInteractive(key) {\n",
              "        const element = document.querySelector('#df-5d6fb16b-2106-4e64-9d8c-4bda825402b3');\n",
              "        const dataTable =\n",
              "          await google.colab.kernel.invokeFunction('convertToInteractive',\n",
              "                                                    [key], {});\n",
              "        if (!dataTable) return;\n",
              "\n",
              "        const docLinkHtml = 'Like what you see? Visit the ' +\n",
              "          '<a target=\"_blank\" href=https://colab.research.google.com/notebooks/data_table.ipynb>data table notebook</a>'\n",
              "          + ' to learn more about interactive tables.';\n",
              "        element.innerHTML = '';\n",
              "        dataTable['output_type'] = 'display_data';\n",
              "        await google.colab.output.renderOutput(dataTable, element);\n",
              "        const docLink = document.createElement('div');\n",
              "        docLink.innerHTML = docLinkHtml;\n",
              "        element.appendChild(docLink);\n",
              "      }\n",
              "    </script>\n",
              "  </div>\n",
              "\n",
              "\n",
              "<div id=\"df-30fe5853-c3f4-4b21-8399-3e9fdee90f12\">\n",
              "  <button class=\"colab-df-quickchart\" onclick=\"quickchart('df-30fe5853-c3f4-4b21-8399-3e9fdee90f12')\"\n",
              "            title=\"Suggest charts\"\n",
              "            style=\"display:none;\">\n",
              "\n",
              "<svg xmlns=\"http://www.w3.org/2000/svg\" height=\"24px\"viewBox=\"0 0 24 24\"\n",
              "     width=\"24px\">\n",
              "    <g>\n",
              "        <path d=\"M19 3H5c-1.1 0-2 .9-2 2v14c0 1.1.9 2 2 2h14c1.1 0 2-.9 2-2V5c0-1.1-.9-2-2-2zM9 17H7v-7h2v7zm4 0h-2V7h2v10zm4 0h-2v-4h2v4z\"/>\n",
              "    </g>\n",
              "</svg>\n",
              "  </button>\n",
              "\n",
              "<style>\n",
              "  .colab-df-quickchart {\n",
              "      --bg-color: #E8F0FE;\n",
              "      --fill-color: #1967D2;\n",
              "      --hover-bg-color: #E2EBFA;\n",
              "      --hover-fill-color: #174EA6;\n",
              "      --disabled-fill-color: #AAA;\n",
              "      --disabled-bg-color: #DDD;\n",
              "  }\n",
              "\n",
              "  [theme=dark] .colab-df-quickchart {\n",
              "      --bg-color: #3B4455;\n",
              "      --fill-color: #D2E3FC;\n",
              "      --hover-bg-color: #434B5C;\n",
              "      --hover-fill-color: #FFFFFF;\n",
              "      --disabled-bg-color: #3B4455;\n",
              "      --disabled-fill-color: #666;\n",
              "  }\n",
              "\n",
              "  .colab-df-quickchart {\n",
              "    background-color: var(--bg-color);\n",
              "    border: none;\n",
              "    border-radius: 50%;\n",
              "    cursor: pointer;\n",
              "    display: none;\n",
              "    fill: var(--fill-color);\n",
              "    height: 32px;\n",
              "    padding: 0;\n",
              "    width: 32px;\n",
              "  }\n",
              "\n",
              "  .colab-df-quickchart:hover {\n",
              "    background-color: var(--hover-bg-color);\n",
              "    box-shadow: 0 1px 2px rgba(60, 64, 67, 0.3), 0 1px 3px 1px rgba(60, 64, 67, 0.15);\n",
              "    fill: var(--button-hover-fill-color);\n",
              "  }\n",
              "\n",
              "  .colab-df-quickchart-complete:disabled,\n",
              "  .colab-df-quickchart-complete:disabled:hover {\n",
              "    background-color: var(--disabled-bg-color);\n",
              "    fill: var(--disabled-fill-color);\n",
              "    box-shadow: none;\n",
              "  }\n",
              "\n",
              "  .colab-df-spinner {\n",
              "    border: 2px solid var(--fill-color);\n",
              "    border-color: transparent;\n",
              "    border-bottom-color: var(--fill-color);\n",
              "    animation:\n",
              "      spin 1s steps(1) infinite;\n",
              "  }\n",
              "\n",
              "  @keyframes spin {\n",
              "    0% {\n",
              "      border-color: transparent;\n",
              "      border-bottom-color: var(--fill-color);\n",
              "      border-left-color: var(--fill-color);\n",
              "    }\n",
              "    20% {\n",
              "      border-color: transparent;\n",
              "      border-left-color: var(--fill-color);\n",
              "      border-top-color: var(--fill-color);\n",
              "    }\n",
              "    30% {\n",
              "      border-color: transparent;\n",
              "      border-left-color: var(--fill-color);\n",
              "      border-top-color: var(--fill-color);\n",
              "      border-right-color: var(--fill-color);\n",
              "    }\n",
              "    40% {\n",
              "      border-color: transparent;\n",
              "      border-right-color: var(--fill-color);\n",
              "      border-top-color: var(--fill-color);\n",
              "    }\n",
              "    60% {\n",
              "      border-color: transparent;\n",
              "      border-right-color: var(--fill-color);\n",
              "    }\n",
              "    80% {\n",
              "      border-color: transparent;\n",
              "      border-right-color: var(--fill-color);\n",
              "      border-bottom-color: var(--fill-color);\n",
              "    }\n",
              "    90% {\n",
              "      border-color: transparent;\n",
              "      border-bottom-color: var(--fill-color);\n",
              "    }\n",
              "  }\n",
              "</style>\n",
              "\n",
              "  <script>\n",
              "    async function quickchart(key) {\n",
              "      const quickchartButtonEl =\n",
              "        document.querySelector('#' + key + ' button');\n",
              "      quickchartButtonEl.disabled = true;  // To prevent multiple clicks.\n",
              "      quickchartButtonEl.classList.add('colab-df-spinner');\n",
              "      try {\n",
              "        const charts = await google.colab.kernel.invokeFunction(\n",
              "            'suggestCharts', [key], {});\n",
              "      } catch (error) {\n",
              "        console.error('Error during call to suggestCharts:', error);\n",
              "      }\n",
              "      quickchartButtonEl.classList.remove('colab-df-spinner');\n",
              "      quickchartButtonEl.classList.add('colab-df-quickchart-complete');\n",
              "    }\n",
              "    (() => {\n",
              "      let quickchartButtonEl =\n",
              "        document.querySelector('#df-30fe5853-c3f4-4b21-8399-3e9fdee90f12 button');\n",
              "      quickchartButtonEl.style.display =\n",
              "        google.colab.kernel.accessAllowed ? 'block' : 'none';\n",
              "    })();\n",
              "  </script>\n",
              "</div>\n",
              "\n",
              "    </div>\n",
              "  </div>\n"
            ],
            "application/vnd.google.colaboratory.intrinsic+json": {
              "type": "dataframe",
              "variable_name": "Insurance",
              "summary": "{\n  \"name\": \"Insurance\",\n  \"rows\": 1338,\n  \"fields\": [\n    {\n      \"column\": \"age\",\n      \"properties\": {\n        \"dtype\": \"number\",\n        \"std\": 14,\n        \"min\": 18,\n        \"max\": 64,\n        \"num_unique_values\": 47,\n        \"samples\": [\n          21,\n          45,\n          36\n        ],\n        \"semantic_type\": \"\",\n        \"description\": \"\"\n      }\n    },\n    {\n      \"column\": \"sex\",\n      \"properties\": {\n        \"dtype\": \"category\",\n        \"num_unique_values\": 2,\n        \"samples\": [\n          \"male\",\n          \"female\"\n        ],\n        \"semantic_type\": \"\",\n        \"description\": \"\"\n      }\n    },\n    {\n      \"column\": \"bmi\",\n      \"properties\": {\n        \"dtype\": \"number\",\n        \"std\": 6.098186911679014,\n        \"min\": 15.96,\n        \"max\": 53.13,\n        \"num_unique_values\": 548,\n        \"samples\": [\n          23.18,\n          26.885\n        ],\n        \"semantic_type\": \"\",\n        \"description\": \"\"\n      }\n    },\n    {\n      \"column\": \"children\",\n      \"properties\": {\n        \"dtype\": \"number\",\n        \"std\": 1,\n        \"min\": 0,\n        \"max\": 5,\n        \"num_unique_values\": 6,\n        \"samples\": [\n          0,\n          1\n        ],\n        \"semantic_type\": \"\",\n        \"description\": \"\"\n      }\n    },\n    {\n      \"column\": \"smoker\",\n      \"properties\": {\n        \"dtype\": \"category\",\n        \"num_unique_values\": 2,\n        \"samples\": [\n          \"no\",\n          \"yes\"\n        ],\n        \"semantic_type\": \"\",\n        \"description\": \"\"\n      }\n    },\n    {\n      \"column\": \"region\",\n      \"properties\": {\n        \"dtype\": \"category\",\n        \"num_unique_values\": 4,\n        \"samples\": [\n          \"southeast\",\n          \"northeast\"\n        ],\n        \"semantic_type\": \"\",\n        \"description\": \"\"\n      }\n    },\n    {\n      \"column\": \"charges\",\n      \"properties\": {\n        \"dtype\": \"number\",\n        \"std\": 12110.011236694001,\n        \"min\": 1121.8739,\n        \"max\": 63770.42801,\n        \"num_unique_values\": 1337,\n        \"samples\": [\n          8688.85885,\n          5708.867\n        ],\n        \"semantic_type\": \"\",\n        \"description\": \"\"\n      }\n    }\n  ]\n}"
            }
          },
          "metadata": {},
          "execution_count": 102
        }
      ]
    },
    {
      "cell_type": "code",
      "source": [
        "#Checking for null values\n",
        "Insurance.isnull().sum()"
      ],
      "metadata": {
        "colab": {
          "base_uri": "https://localhost:8080/"
        },
        "id": "HnCCjwWK1rhH",
        "outputId": "a6697859-d490-48cd-d828-b1153cc90d83"
      },
      "execution_count": null,
      "outputs": [
        {
          "output_type": "execute_result",
          "data": {
            "text/plain": [
              "age         0\n",
              "sex         0\n",
              "bmi         0\n",
              "children    0\n",
              "smoker      0\n",
              "region      0\n",
              "charges     0\n",
              "dtype: int64"
            ]
          },
          "metadata": {},
          "execution_count": 103
        }
      ]
    },
    {
      "cell_type": "code",
      "source": [
        "#Informationa about data\n",
        "Insurance.info()"
      ],
      "metadata": {
        "colab": {
          "base_uri": "https://localhost:8080/"
        },
        "id": "44tQJmXf12Hn",
        "outputId": "fa8931bb-b401-4589-c0e3-5548f85eaa36"
      },
      "execution_count": null,
      "outputs": [
        {
          "output_type": "stream",
          "name": "stdout",
          "text": [
            "<class 'pandas.core.frame.DataFrame'>\n",
            "RangeIndex: 1338 entries, 0 to 1337\n",
            "Data columns (total 7 columns):\n",
            " #   Column    Non-Null Count  Dtype  \n",
            "---  ------    --------------  -----  \n",
            " 0   age       1338 non-null   int64  \n",
            " 1   sex       1338 non-null   object \n",
            " 2   bmi       1338 non-null   float64\n",
            " 3   children  1338 non-null   int64  \n",
            " 4   smoker    1338 non-null   object \n",
            " 5   region    1338 non-null   object \n",
            " 6   charges   1338 non-null   float64\n",
            "dtypes: float64(2), int64(2), object(3)\n",
            "memory usage: 73.3+ KB\n"
          ]
        }
      ]
    },
    {
      "cell_type": "code",
      "source": [
        "#Statistical information\n",
        "Insurance.describe()"
      ],
      "metadata": {
        "colab": {
          "base_uri": "https://localhost:8080/",
          "height": 300
        },
        "id": "i_Bp1CVF18of",
        "outputId": "f9d56a2c-c7fc-4461-ef0f-70eca08cab97"
      },
      "execution_count": null,
      "outputs": [
        {
          "output_type": "execute_result",
          "data": {
            "text/plain": [
              "               age          bmi     children       charges\n",
              "count  1338.000000  1338.000000  1338.000000   1338.000000\n",
              "mean     39.207025    30.663397     1.094918  13270.422265\n",
              "std      14.049960     6.098187     1.205493  12110.011237\n",
              "min      18.000000    15.960000     0.000000   1121.873900\n",
              "25%      27.000000    26.296250     0.000000   4740.287150\n",
              "50%      39.000000    30.400000     1.000000   9382.033000\n",
              "75%      51.000000    34.693750     2.000000  16639.912515\n",
              "max      64.000000    53.130000     5.000000  63770.428010"
            ],
            "text/html": [
              "\n",
              "  <div id=\"df-512b0cd6-8b3f-4781-8877-b834fe328c77\" class=\"colab-df-container\">\n",
              "    <div>\n",
              "<style scoped>\n",
              "    .dataframe tbody tr th:only-of-type {\n",
              "        vertical-align: middle;\n",
              "    }\n",
              "\n",
              "    .dataframe tbody tr th {\n",
              "        vertical-align: top;\n",
              "    }\n",
              "\n",
              "    .dataframe thead th {\n",
              "        text-align: right;\n",
              "    }\n",
              "</style>\n",
              "<table border=\"1\" class=\"dataframe\">\n",
              "  <thead>\n",
              "    <tr style=\"text-align: right;\">\n",
              "      <th></th>\n",
              "      <th>age</th>\n",
              "      <th>bmi</th>\n",
              "      <th>children</th>\n",
              "      <th>charges</th>\n",
              "    </tr>\n",
              "  </thead>\n",
              "  <tbody>\n",
              "    <tr>\n",
              "      <th>count</th>\n",
              "      <td>1338.000000</td>\n",
              "      <td>1338.000000</td>\n",
              "      <td>1338.000000</td>\n",
              "      <td>1338.000000</td>\n",
              "    </tr>\n",
              "    <tr>\n",
              "      <th>mean</th>\n",
              "      <td>39.207025</td>\n",
              "      <td>30.663397</td>\n",
              "      <td>1.094918</td>\n",
              "      <td>13270.422265</td>\n",
              "    </tr>\n",
              "    <tr>\n",
              "      <th>std</th>\n",
              "      <td>14.049960</td>\n",
              "      <td>6.098187</td>\n",
              "      <td>1.205493</td>\n",
              "      <td>12110.011237</td>\n",
              "    </tr>\n",
              "    <tr>\n",
              "      <th>min</th>\n",
              "      <td>18.000000</td>\n",
              "      <td>15.960000</td>\n",
              "      <td>0.000000</td>\n",
              "      <td>1121.873900</td>\n",
              "    </tr>\n",
              "    <tr>\n",
              "      <th>25%</th>\n",
              "      <td>27.000000</td>\n",
              "      <td>26.296250</td>\n",
              "      <td>0.000000</td>\n",
              "      <td>4740.287150</td>\n",
              "    </tr>\n",
              "    <tr>\n",
              "      <th>50%</th>\n",
              "      <td>39.000000</td>\n",
              "      <td>30.400000</td>\n",
              "      <td>1.000000</td>\n",
              "      <td>9382.033000</td>\n",
              "    </tr>\n",
              "    <tr>\n",
              "      <th>75%</th>\n",
              "      <td>51.000000</td>\n",
              "      <td>34.693750</td>\n",
              "      <td>2.000000</td>\n",
              "      <td>16639.912515</td>\n",
              "    </tr>\n",
              "    <tr>\n",
              "      <th>max</th>\n",
              "      <td>64.000000</td>\n",
              "      <td>53.130000</td>\n",
              "      <td>5.000000</td>\n",
              "      <td>63770.428010</td>\n",
              "    </tr>\n",
              "  </tbody>\n",
              "</table>\n",
              "</div>\n",
              "    <div class=\"colab-df-buttons\">\n",
              "\n",
              "  <div class=\"colab-df-container\">\n",
              "    <button class=\"colab-df-convert\" onclick=\"convertToInteractive('df-512b0cd6-8b3f-4781-8877-b834fe328c77')\"\n",
              "            title=\"Convert this dataframe to an interactive table.\"\n",
              "            style=\"display:none;\">\n",
              "\n",
              "  <svg xmlns=\"http://www.w3.org/2000/svg\" height=\"24px\" viewBox=\"0 -960 960 960\">\n",
              "    <path d=\"M120-120v-720h720v720H120Zm60-500h600v-160H180v160Zm220 220h160v-160H400v160Zm0 220h160v-160H400v160ZM180-400h160v-160H180v160Zm440 0h160v-160H620v160ZM180-180h160v-160H180v160Zm440 0h160v-160H620v160Z\"/>\n",
              "  </svg>\n",
              "    </button>\n",
              "\n",
              "  <style>\n",
              "    .colab-df-container {\n",
              "      display:flex;\n",
              "      gap: 12px;\n",
              "    }\n",
              "\n",
              "    .colab-df-convert {\n",
              "      background-color: #E8F0FE;\n",
              "      border: none;\n",
              "      border-radius: 50%;\n",
              "      cursor: pointer;\n",
              "      display: none;\n",
              "      fill: #1967D2;\n",
              "      height: 32px;\n",
              "      padding: 0 0 0 0;\n",
              "      width: 32px;\n",
              "    }\n",
              "\n",
              "    .colab-df-convert:hover {\n",
              "      background-color: #E2EBFA;\n",
              "      box-shadow: 0px 1px 2px rgba(60, 64, 67, 0.3), 0px 1px 3px 1px rgba(60, 64, 67, 0.15);\n",
              "      fill: #174EA6;\n",
              "    }\n",
              "\n",
              "    .colab-df-buttons div {\n",
              "      margin-bottom: 4px;\n",
              "    }\n",
              "\n",
              "    [theme=dark] .colab-df-convert {\n",
              "      background-color: #3B4455;\n",
              "      fill: #D2E3FC;\n",
              "    }\n",
              "\n",
              "    [theme=dark] .colab-df-convert:hover {\n",
              "      background-color: #434B5C;\n",
              "      box-shadow: 0px 1px 3px 1px rgba(0, 0, 0, 0.15);\n",
              "      filter: drop-shadow(0px 1px 2px rgba(0, 0, 0, 0.3));\n",
              "      fill: #FFFFFF;\n",
              "    }\n",
              "  </style>\n",
              "\n",
              "    <script>\n",
              "      const buttonEl =\n",
              "        document.querySelector('#df-512b0cd6-8b3f-4781-8877-b834fe328c77 button.colab-df-convert');\n",
              "      buttonEl.style.display =\n",
              "        google.colab.kernel.accessAllowed ? 'block' : 'none';\n",
              "\n",
              "      async function convertToInteractive(key) {\n",
              "        const element = document.querySelector('#df-512b0cd6-8b3f-4781-8877-b834fe328c77');\n",
              "        const dataTable =\n",
              "          await google.colab.kernel.invokeFunction('convertToInteractive',\n",
              "                                                    [key], {});\n",
              "        if (!dataTable) return;\n",
              "\n",
              "        const docLinkHtml = 'Like what you see? Visit the ' +\n",
              "          '<a target=\"_blank\" href=https://colab.research.google.com/notebooks/data_table.ipynb>data table notebook</a>'\n",
              "          + ' to learn more about interactive tables.';\n",
              "        element.innerHTML = '';\n",
              "        dataTable['output_type'] = 'display_data';\n",
              "        await google.colab.output.renderOutput(dataTable, element);\n",
              "        const docLink = document.createElement('div');\n",
              "        docLink.innerHTML = docLinkHtml;\n",
              "        element.appendChild(docLink);\n",
              "      }\n",
              "    </script>\n",
              "  </div>\n",
              "\n",
              "\n",
              "<div id=\"df-b855a0a3-3b92-42e8-8ee8-5e75b95e9008\">\n",
              "  <button class=\"colab-df-quickchart\" onclick=\"quickchart('df-b855a0a3-3b92-42e8-8ee8-5e75b95e9008')\"\n",
              "            title=\"Suggest charts\"\n",
              "            style=\"display:none;\">\n",
              "\n",
              "<svg xmlns=\"http://www.w3.org/2000/svg\" height=\"24px\"viewBox=\"0 0 24 24\"\n",
              "     width=\"24px\">\n",
              "    <g>\n",
              "        <path d=\"M19 3H5c-1.1 0-2 .9-2 2v14c0 1.1.9 2 2 2h14c1.1 0 2-.9 2-2V5c0-1.1-.9-2-2-2zM9 17H7v-7h2v7zm4 0h-2V7h2v10zm4 0h-2v-4h2v4z\"/>\n",
              "    </g>\n",
              "</svg>\n",
              "  </button>\n",
              "\n",
              "<style>\n",
              "  .colab-df-quickchart {\n",
              "      --bg-color: #E8F0FE;\n",
              "      --fill-color: #1967D2;\n",
              "      --hover-bg-color: #E2EBFA;\n",
              "      --hover-fill-color: #174EA6;\n",
              "      --disabled-fill-color: #AAA;\n",
              "      --disabled-bg-color: #DDD;\n",
              "  }\n",
              "\n",
              "  [theme=dark] .colab-df-quickchart {\n",
              "      --bg-color: #3B4455;\n",
              "      --fill-color: #D2E3FC;\n",
              "      --hover-bg-color: #434B5C;\n",
              "      --hover-fill-color: #FFFFFF;\n",
              "      --disabled-bg-color: #3B4455;\n",
              "      --disabled-fill-color: #666;\n",
              "  }\n",
              "\n",
              "  .colab-df-quickchart {\n",
              "    background-color: var(--bg-color);\n",
              "    border: none;\n",
              "    border-radius: 50%;\n",
              "    cursor: pointer;\n",
              "    display: none;\n",
              "    fill: var(--fill-color);\n",
              "    height: 32px;\n",
              "    padding: 0;\n",
              "    width: 32px;\n",
              "  }\n",
              "\n",
              "  .colab-df-quickchart:hover {\n",
              "    background-color: var(--hover-bg-color);\n",
              "    box-shadow: 0 1px 2px rgba(60, 64, 67, 0.3), 0 1px 3px 1px rgba(60, 64, 67, 0.15);\n",
              "    fill: var(--button-hover-fill-color);\n",
              "  }\n",
              "\n",
              "  .colab-df-quickchart-complete:disabled,\n",
              "  .colab-df-quickchart-complete:disabled:hover {\n",
              "    background-color: var(--disabled-bg-color);\n",
              "    fill: var(--disabled-fill-color);\n",
              "    box-shadow: none;\n",
              "  }\n",
              "\n",
              "  .colab-df-spinner {\n",
              "    border: 2px solid var(--fill-color);\n",
              "    border-color: transparent;\n",
              "    border-bottom-color: var(--fill-color);\n",
              "    animation:\n",
              "      spin 1s steps(1) infinite;\n",
              "  }\n",
              "\n",
              "  @keyframes spin {\n",
              "    0% {\n",
              "      border-color: transparent;\n",
              "      border-bottom-color: var(--fill-color);\n",
              "      border-left-color: var(--fill-color);\n",
              "    }\n",
              "    20% {\n",
              "      border-color: transparent;\n",
              "      border-left-color: var(--fill-color);\n",
              "      border-top-color: var(--fill-color);\n",
              "    }\n",
              "    30% {\n",
              "      border-color: transparent;\n",
              "      border-left-color: var(--fill-color);\n",
              "      border-top-color: var(--fill-color);\n",
              "      border-right-color: var(--fill-color);\n",
              "    }\n",
              "    40% {\n",
              "      border-color: transparent;\n",
              "      border-right-color: var(--fill-color);\n",
              "      border-top-color: var(--fill-color);\n",
              "    }\n",
              "    60% {\n",
              "      border-color: transparent;\n",
              "      border-right-color: var(--fill-color);\n",
              "    }\n",
              "    80% {\n",
              "      border-color: transparent;\n",
              "      border-right-color: var(--fill-color);\n",
              "      border-bottom-color: var(--fill-color);\n",
              "    }\n",
              "    90% {\n",
              "      border-color: transparent;\n",
              "      border-bottom-color: var(--fill-color);\n",
              "    }\n",
              "  }\n",
              "</style>\n",
              "\n",
              "  <script>\n",
              "    async function quickchart(key) {\n",
              "      const quickchartButtonEl =\n",
              "        document.querySelector('#' + key + ' button');\n",
              "      quickchartButtonEl.disabled = true;  // To prevent multiple clicks.\n",
              "      quickchartButtonEl.classList.add('colab-df-spinner');\n",
              "      try {\n",
              "        const charts = await google.colab.kernel.invokeFunction(\n",
              "            'suggestCharts', [key], {});\n",
              "      } catch (error) {\n",
              "        console.error('Error during call to suggestCharts:', error);\n",
              "      }\n",
              "      quickchartButtonEl.classList.remove('colab-df-spinner');\n",
              "      quickchartButtonEl.classList.add('colab-df-quickchart-complete');\n",
              "    }\n",
              "    (() => {\n",
              "      let quickchartButtonEl =\n",
              "        document.querySelector('#df-b855a0a3-3b92-42e8-8ee8-5e75b95e9008 button');\n",
              "      quickchartButtonEl.style.display =\n",
              "        google.colab.kernel.accessAllowed ? 'block' : 'none';\n",
              "    })();\n",
              "  </script>\n",
              "</div>\n",
              "\n",
              "    </div>\n",
              "  </div>\n"
            ],
            "application/vnd.google.colaboratory.intrinsic+json": {
              "type": "dataframe",
              "summary": "{\n  \"name\": \"Insurance\",\n  \"rows\": 8,\n  \"fields\": [\n    {\n      \"column\": \"age\",\n      \"properties\": {\n        \"dtype\": \"number\",\n        \"std\": 460.6106090399993,\n        \"min\": 14.049960379216154,\n        \"max\": 1338.0,\n        \"num_unique_values\": 8,\n        \"samples\": [\n          39.20702541106129,\n          39.0,\n          1338.0\n        ],\n        \"semantic_type\": \"\",\n        \"description\": \"\"\n      }\n    },\n    {\n      \"column\": \"bmi\",\n      \"properties\": {\n        \"dtype\": \"number\",\n        \"std\": 463.29524977918294,\n        \"min\": 6.098186911679014,\n        \"max\": 1338.0,\n        \"num_unique_values\": 8,\n        \"samples\": [\n          30.66339686098655,\n          30.4,\n          1338.0\n        ],\n        \"semantic_type\": \"\",\n        \"description\": \"\"\n      }\n    },\n    {\n      \"column\": \"children\",\n      \"properties\": {\n        \"dtype\": \"number\",\n        \"std\": 472.5368318870757,\n        \"min\": 0.0,\n        \"max\": 1338.0,\n        \"num_unique_values\": 7,\n        \"samples\": [\n          1338.0,\n          1.0949177877429,\n          2.0\n        ],\n        \"semantic_type\": \"\",\n        \"description\": \"\"\n      }\n    },\n    {\n      \"column\": \"charges\",\n      \"properties\": {\n        \"dtype\": \"number\",\n        \"std\": 20381.922846226596,\n        \"min\": 1121.8739,\n        \"max\": 63770.42801,\n        \"num_unique_values\": 8,\n        \"samples\": [\n          13270.422265141257,\n          9382.033,\n          1338.0\n        ],\n        \"semantic_type\": \"\",\n        \"description\": \"\"\n      }\n    }\n  ]\n}"
            }
          },
          "metadata": {},
          "execution_count": 105
        }
      ]
    },
    {
      "cell_type": "code",
      "source": [
        "Insurance.shape"
      ],
      "metadata": {
        "colab": {
          "base_uri": "https://localhost:8080/"
        },
        "id": "3Qkoub682GyH",
        "outputId": "0587a2dd-0ceb-4d28-9ef0-d52a025dabbe"
      },
      "execution_count": null,
      "outputs": [
        {
          "output_type": "execute_result",
          "data": {
            "text/plain": [
              "(1338, 7)"
            ]
          },
          "metadata": {},
          "execution_count": 106
        }
      ]
    },
    {
      "cell_type": "code",
      "source": [
        "#Finding Gender distribution\n",
        "plt.figure(figsize=(5,5))\n",
        "sns.countplot(x='sex',data=Insurance,palette=['Grey', 'Yellow'])\n",
        "plt.title('Gender Distribution')"
      ],
      "metadata": {
        "colab": {
          "base_uri": "https://localhost:8080/",
          "height": 611
        },
        "id": "9KMNzGNGA_CZ",
        "outputId": "037238a7-3e00-4f5c-a3e2-35a7a129aad4"
      },
      "execution_count": null,
      "outputs": [
        {
          "output_type": "stream",
          "name": "stderr",
          "text": [
            "<ipython-input-107-f353162c0e58>:3: FutureWarning: \n",
            "\n",
            "Passing `palette` without assigning `hue` is deprecated and will be removed in v0.14.0. Assign the `x` variable to `hue` and set `legend=False` for the same effect.\n",
            "\n",
            "  sns.countplot(x='sex',data=Insurance,palette=['Grey', 'Yellow'])\n"
          ]
        },
        {
          "output_type": "execute_result",
          "data": {
            "text/plain": [
              "Text(0.5, 1.0, 'Gender Distribution')"
            ]
          },
          "metadata": {},
          "execution_count": 107
        },
        {
          "output_type": "display_data",
          "data": {
            "text/plain": [
              "<Figure size 500x500 with 1 Axes>"
            ],
            "image/png": "[encoded data removed]"
          },
          "metadata": {}
        }
      ]
    },
    {
      "cell_type": "code",
      "source": [
        "# Smoker count\n",
        "sns.countplot(x='smoker', palette=['Grey', 'turquoise'], data=Insurance)\n",
        "plt.title('Smoker Distribution')\n",
        "plt.show()"
      ],
      "metadata": {
        "colab": {
          "base_uri": "https://localhost:8080/",
          "height": 579
        },
        "id": "VdQm9qn6Gs96",
        "outputId": "2b8427d3-364d-43e7-dad8-64f64f1482f8"
      },
      "execution_count": null,
      "outputs": [
        {
          "output_type": "stream",
          "name": "stderr",
          "text": [
            "<ipython-input-108-2a82fc07f315>:2: FutureWarning: \n",
            "\n",
            "Passing `palette` without assigning `hue` is deprecated and will be removed in v0.14.0. Assign the `x` variable to `hue` and set `legend=False` for the same effect.\n",
            "\n",
            "  sns.countplot(x='smoker', palette=['Grey', 'turquoise'], data=Insurance)\n"
          ]
        },
        {
          "output_type": "display_data",
          "data": {
            "text/plain": [
              "<Figure size 640x480 with 1 Axes>"
            ],
            "image/png": "[encoded data removed]"
          },
          "metadata": {}
        }
      ]
    },
    {
      "cell_type": "code",
      "source": [
        "Insurance['region'].value_counts()"
      ],
      "metadata": {
        "colab": {
          "base_uri": "https://localhost:8080/"
        },
        "id": "7_m2BYKEIJfC",
        "outputId": "80edd9fb-005e-4fcf-d302-42029c6000e4"
      },
      "execution_count": null,
      "outputs": [
        {
          "output_type": "execute_result",
          "data": {
            "text/plain": [
              "region\n",
              "southeast    364\n",
              "southwest    325\n",
              "northwest    325\n",
              "northeast    324\n",
              "Name: count, dtype: int64"
            ]
          },
          "metadata": {},
          "execution_count": 109
        }
      ]
    },
    {
      "cell_type": "code",
      "source": [
        "#Regional Distribution\n",
        "x = Insurance['region'].value_counts()\n",
        "plt.pie(x, labels=(\"southeast\", \"southwest\", \"northwest\", \"northeast\"), autopct=\"%1.1f%%\", data=Insurance, colors=('Orange', 'Green', 'Blue', 'Yellow'))"
      ],
      "metadata": {
        "colab": {
          "base_uri": "https://localhost:8080/",
          "height": 614
        },
        "id": "r-dzq8A_HBRB",
        "outputId": "b43e20c1-6a0d-4501-b7aa-037aa1f3e02a"
      },
      "execution_count": null,
      "outputs": [
        {
          "output_type": "execute_result",
          "data": {
            "text/plain": [
              "([<matplotlib.patches.Wedge at 0x7f16cefd0c40>,\n",
              "  <matplotlib.patches.Wedge at 0x7f16cefd0b50>,\n",
              "  <matplotlib.patches.Wedge at 0x7f16cefd1930>,\n",
              "  <matplotlib.patches.Wedge at 0x7f16cefd1fc0>],\n",
              " [Text(0.722119686055283, 0.8297850077046582, 'southeast'),\n",
              "  Text(-0.8627681631663758, 0.6823716704454532, 'southwest'),\n",
              "  Text(-0.7201694244483217, -0.8314782018127556, 'northwest'),\n",
              "  Text(0.7967551940047443, -0.7584069889092945, 'northeast')],\n",
              " [Text(0.39388346512106337, 0.4526100042025408, '27.2%'),\n",
              "  Text(-0.47060081627256856, 0.37220272933388354, '24.3%'),\n",
              "  Text(-0.39281968606272083, -0.45353356462513933, '24.3%'),\n",
              "  Text(0.4345937421844059, -0.41367653940506965, '24.2%')])"
            ]
          },
          "metadata": {},
          "execution_count": 110
        },
        {
          "output_type": "display_data",
          "data": {
            "text/plain": [
              "<Figure size 640x480 with 1 Axes>"
            ],
            "image/png": "[encoded data removed]"
          },
          "metadata": {}
        }
      ]
    },
    {
      "cell_type": "code",
      "source": [
        "plt.hist(Insurance['age'], bins=50, alpha=0.5, label='Age Distribution')\n",
        "plt.xlabel('Age')\n",
        "plt.ylabel('Frequency')\n",
        "plt.title('Age Distribution')\n",
        "plt.show()"
      ],
      "metadata": {
        "colab": {
          "base_uri": "https://localhost:8080/",
          "height": 472
        },
        "id": "AOKiKzgNOlmM",
        "outputId": "437d5335-9cc5-4dee-e45e-3b0f5e3a0b01"
      },
      "execution_count": null,
      "outputs": [
        {
          "output_type": "display_data",
          "data": {
            "text/plain": [
              "<Figure size 640x480 with 1 Axes>"
            ],
            "image/png": "[encoded data removed]"
          },
          "metadata": {}
        }
      ]
    },
    {
      "cell_type": "code",
      "source": [
        "sns.barplot(x='sex',y='charges',data=Insurance)"
      ],
      "metadata": {
        "colab": {
          "base_uri": "https://localhost:8080/",
          "height": 466
        },
        "id": "hV8a1ht0jhF2",
        "outputId": "2c3f03fe-ed5a-4afd-fd28-69903e8a77b9"
      },
      "execution_count": null,
      "outputs": [
        {
          "output_type": "execute_result",
          "data": {
            "text/plain": [
              "<Axes: xlabel='sex', ylabel='charges'>"
            ]
          },
          "metadata": {},
          "execution_count": 123
        },
        {
          "output_type": "display_data",
          "data": {
            "text/plain": [
              "<Figure size 640x480 with 1 Axes>"
            ],
            "image/png": "[encoded data removed]"
          },
          "metadata": {}
        }
      ]
    },
    {
      "cell_type": "code",
      "source": [
        "#finding is there any relationship between age and charges\n",
        "plt.figure(figsize=(10, 6))\n",
        "sns.scatterplot(x='age', y='charges', data=Insurance)\n",
        "plt.title('Age vs Charges')\n",
        "plt.xlabel('Age')\n",
        "plt.ylabel('Charges')\n",
        "plt.show()"
      ],
      "metadata": {
        "colab": {
          "base_uri": "https://localhost:8080/",
          "height": 564
        },
        "id": "2oIyuV_UOzQ6",
        "outputId": "bb20fa0e-6b52-425a-fa28-1fa4c148ce04"
      },
      "execution_count": null,
      "outputs": [
        {
          "output_type": "display_data",
          "data": {
            "text/plain": [
              "<Figure size 1000x600 with 1 Axes>"
            ],
            "image/png": "[encoded data removed]"
          },
          "metadata": {}
        }
      ]
    },
    {
      "cell_type": "code",
      "source": [
        "sns.catplot(x='region', y='charges', hue='smoker', kind='bar', data=Insurance)\n",
        "plt.show()"
      ],
      "metadata": {
        "colab": {
          "base_uri": "https://localhost:8080/",
          "height": 506
        },
        "id": "nqbzpiVK2-CR",
        "outputId": "75f4a399-ace5-481f-a762-1aacca4c9fd2"
      },
      "execution_count": null,
      "outputs": [
        {
          "output_type": "display_data",
          "data": {
            "text/plain": [
              "<Figure size 562.111x500 with 1 Axes>"
            ],
            "image/png": "[encoded data removed]"
          },
          "metadata": {}
        }
      ]
    },
    {
      "cell_type": "code",
      "source": [
        "#Size mapping to convert Sex values into Numerical values using size mapping\n",
        "size_mapping={'female':0,'male':1}\n",
        "Insurance['sex']=Insurance['sex'].map(size_mapping)"
      ],
      "metadata": {
        "id": "SN1w-YUEJ5ES"
      },
      "execution_count": null,
      "outputs": []
    },
    {
      "cell_type": "code",
      "source": [
        "size_mapping={'yes':0,'no':1}\n",
        "Insurance['smoker']=Insurance['smoker'].map(size_mapping)"
      ],
      "metadata": {
        "id": "mD2kxa3sOLVF"
      },
      "execution_count": null,
      "outputs": []
    },
    {
      "cell_type": "code",
      "source": [
        "#Label Encoding for converting Region values into Numerical values\n",
        "from sklearn.preprocessing import LabelEncoder\n",
        "le=LabelEncoder()\n",
        "Insurance['region']=le.fit_transform(Insurance['region'].values)"
      ],
      "metadata": {
        "id": "VdPA2VsuinLs"
      },
      "execution_count": null,
      "outputs": []
    },
    {
      "cell_type": "code",
      "source": [
        "#Finding the best relation which leads for charging amount\n",
        "corr_matrix = Insurance.corr()\n",
        "plt.figure(figsize=(6, 6))\n",
        "sns.heatmap(corr_matrix, annot=True, cmap='coolwarm', square=True)\n",
        "plt.title('Correlation Matrix')\n",
        "plt.show()"
      ],
      "metadata": {
        "colab": {
          "base_uri": "https://localhost:8080/",
          "height": 524
        },
        "id": "xhMzMzUbiFPu",
        "outputId": "68c29031-ee11-4642-d664-d972be91edf7"
      },
      "execution_count": null,
      "outputs": [
        {
          "output_type": "display_data",
          "data": {
            "text/plain": [
              "<Figure size 600x600 with 2 Axes>"
            ],
            "image/png": "[encoded data removed]"
          },
          "metadata": {}
        }
      ]
    },
    {
      "cell_type": "markdown",
      "source": [
        "The correlation matrix provides insights into the relationships between the different features and the output variable \"charges\". The strong negative correlation between \"smoker\" and \"charges\" suggests that smokers tend to have lower insurance charges, while the weak positive correlation between \"age\" and \"charges\" suggests that older individuals tend to have slightly higher insurance charges."
      ],
      "metadata": {
        "id": "vPe2xGupj6a-"
      }
    },
    {
      "cell_type": "code",
      "source": [
        "Insurance.head()"
      ],
      "metadata": {
        "colab": {
          "base_uri": "https://localhost:8080/",
          "height": 206
        },
        "id": "UnCxl0C5N__i",
        "outputId": "73e6d16c-69b1-4e0f-e9a7-1c9616acff8b"
      },
      "execution_count": null,
      "outputs": [
        {
          "output_type": "execute_result",
          "data": {
            "text/plain": [
              "   age  sex     bmi  children  smoker  region      charges\n",
              "0   19    0  27.900         0       0       3  16884.92400\n",
              "1   18    1  33.770         1       1       2   1725.55230\n",
              "2   28    1  33.000         3       1       2   4449.46200\n",
              "3   33    1  22.705         0       1       1  21984.47061\n",
              "4   32    1  28.880         0       1       1   3866.85520"
            ],
            "text/html": [
              "\n",
              "  <div id=\"df-059d8f05-3580-4809-b85c-b2a6238524c5\" class=\"colab-df-container\">\n",
              "    <div>\n",
              "<style scoped>\n",
              "    .dataframe tbody tr th:only-of-type {\n",
              "        vertical-align: middle;\n",
              "    }\n",
              "\n",
              "    .dataframe tbody tr th {\n",
              "        vertical-align: top;\n",
              "    }\n",
              "\n",
              "    .dataframe thead th {\n",
              "        text-align: right;\n",
              "    }\n",
              "</style>\n",
              "<table border=\"1\" class=\"dataframe\">\n",
              "  <thead>\n",
              "    <tr style=\"text-align: right;\">\n",
              "      <th></th>\n",
              "      <th>age</th>\n",
              "      <th>sex</th>\n",
              "      <th>bmi</th>\n",
              "      <th>children</th>\n",
              "      <th>smoker</th>\n",
              "      <th>region</th>\n",
              "      <th>charges</th>\n",
              "    </tr>\n",
              "  </thead>\n",
              "  <tbody>\n",
              "    <tr>\n",
              "      <th>0</th>\n",
              "      <td>19</td>\n",
              "      <td>0</td>\n",
              "      <td>27.900</td>\n",
              "      <td>0</td>\n",
              "      <td>0</td>\n",
              "      <td>3</td>\n",
              "      <td>16884.92400</td>\n",
              "    </tr>\n",
              "    <tr>\n",
              "      <th>1</th>\n",
              "      <td>18</td>\n",
              "      <td>1</td>\n",
              "      <td>33.770</td>\n",
              "      <td>1</td>\n",
              "      <td>1</td>\n",
              "      <td>2</td>\n",
              "      <td>1725.55230</td>\n",
              "    </tr>\n",
              "    <tr>\n",
              "      <th>2</th>\n",
              "      <td>28</td>\n",
              "      <td>1</td>\n",
              "      <td>33.000</td>\n",
              "      <td>3</td>\n",
              "      <td>1</td>\n",
              "      <td>2</td>\n",
              "      <td>4449.46200</td>\n",
              "    </tr>\n",
              "    <tr>\n",
              "      <th>3</th>\n",
              "      <td>33</td>\n",
              "      <td>1</td>\n",
              "      <td>22.705</td>\n",
              "      <td>0</td>\n",
              "      <td>1</td>\n",
              "      <td>1</td>\n",
              "      <td>21984.47061</td>\n",
              "    </tr>\n",
              "    <tr>\n",
              "      <th>4</th>\n",
              "      <td>32</td>\n",
              "      <td>1</td>\n",
              "      <td>28.880</td>\n",
              "      <td>0</td>\n",
              "      <td>1</td>\n",
              "      <td>1</td>\n",
              "      <td>3866.85520</td>\n",
              "    </tr>\n",
              "  </tbody>\n",
              "</table>\n",
              "</div>\n",
              "    <div class=\"colab-df-buttons\">\n",
              "\n",
              "  <div class=\"colab-df-container\">\n",
              "    <button class=\"colab-df-convert\" onclick=\"convertToInteractive('df-059d8f05-3580-4809-b85c-b2a6238524c5')\"\n",
              "            title=\"Convert this dataframe to an interactive table.\"\n",
              "            style=\"display:none;\">\n",
              "\n",
              "  <svg xmlns=\"http://www.w3.org/2000/svg\" height=\"24px\" viewBox=\"0 -960 960 960\">\n",
              "    <path d=\"M120-120v-720h720v720H120Zm60-500h600v-160H180v160Zm220 220h160v-160H400v160Zm0 220h160v-160H400v160ZM180-400h160v-160H180v160Zm440 0h160v-160H620v160ZM180-180h160v-160H180v160Zm440 0h160v-160H620v160Z\"/>\n",
              "  </svg>\n",
              "    </button>\n",
              "\n",
              "  <style>\n",
              "    .colab-df-container {\n",
              "      display:flex;\n",
              "      gap: 12px;\n",
              "    }\n",
              "\n",
              "    .colab-df-convert {\n",
              "      background-color: #E8F0FE;\n",
              "      border: none;\n",
              "      border-radius: 50%;\n",
              "      cursor: pointer;\n",
              "      display: none;\n",
              "      fill: #1967D2;\n",
              "      height: 32px;\n",
              "      padding: 0 0 0 0;\n",
              "      width: 32px;\n",
              "    }\n",
              "\n",
              "    .colab-df-convert:hover {\n",
              "      background-color: #E2EBFA;\n",
              "      box-shadow: 0px 1px 2px rgba(60, 64, 67, 0.3), 0px 1px 3px 1px rgba(60, 64, 67, 0.15);\n",
              "      fill: #174EA6;\n",
              "    }\n",
              "\n",
              "    .colab-df-buttons div {\n",
              "      margin-bottom: 4px;\n",
              "    }\n",
              "\n",
              "    [theme=dark] .colab-df-convert {\n",
              "      background-color: #3B4455;\n",
              "      fill: #D2E3FC;\n",
              "    }\n",
              "\n",
              "    [theme=dark] .colab-df-convert:hover {\n",
              "      background-color: #434B5C;\n",
              "      box-shadow: 0px 1px 3px 1px rgba(0, 0, 0, 0.15);\n",
              "      filter: drop-shadow(0px 1px 2px rgba(0, 0, 0, 0.3));\n",
              "      fill: #FFFFFF;\n",
              "    }\n",
              "  </style>\n",
              "\n",
              "    <script>\n",
              "      const buttonEl =\n",
              "        document.querySelector('#df-059d8f05-3580-4809-b85c-b2a6238524c5 button.colab-df-convert');\n",
              "      buttonEl.style.display =\n",
              "        google.colab.kernel.accessAllowed ? 'block' : 'none';\n",
              "\n",
              "      async function convertToInteractive(key) {\n",
              "        const element = document.querySelector('#df-059d8f05-3580-4809-b85c-b2a6238524c5');\n",
              "        const dataTable =\n",
              "          await google.colab.kernel.invokeFunction('convertToInteractive',\n",
              "                                                    [key], {});\n",
              "        if (!dataTable) return;\n",
              "\n",
              "        const docLinkHtml = 'Like what you see? Visit the ' +\n",
              "          '<a target=\"_blank\" href=https://colab.research.google.com/notebooks/data_table.ipynb>data table notebook</a>'\n",
              "          + ' to learn more about interactive tables.';\n",
              "        element.innerHTML = '';\n",
              "        dataTable['output_type'] = 'display_data';\n",
              "        await google.colab.output.renderOutput(dataTable, element);\n",
              "        const docLink = document.createElement('div');\n",
              "        docLink.innerHTML = docLinkHtml;\n",
              "        element.appendChild(docLink);\n",
              "      }\n",
              "    </script>\n",
              "  </div>\n",
              "\n",
              "\n",
              "<div id=\"df-3d609421-7b09-455f-82f0-822f108846b4\">\n",
              "  <button class=\"colab-df-quickchart\" onclick=\"quickchart('df-3d609421-7b09-455f-82f0-822f108846b4')\"\n",
              "            title=\"Suggest charts\"\n",
              "            style=\"display:none;\">\n",
              "\n",
              "<svg xmlns=\"http://www.w3.org/2000/svg\" height=\"24px\"viewBox=\"0 0 24 24\"\n",
              "     width=\"24px\">\n",
              "    <g>\n",
              "        <path d=\"M19 3H5c-1.1 0-2 .9-2 2v14c0 1.1.9 2 2 2h14c1.1 0 2-.9 2-2V5c0-1.1-.9-2-2-2zM9 17H7v-7h2v7zm4 0h-2V7h2v10zm4 0h-2v-4h2v4z\"/>\n",
              "    </g>\n",
              "</svg>\n",
              "  </button>\n",
              "\n",
              "<style>\n",
              "  .colab-df-quickchart {\n",
              "      --bg-color: #E8F0FE;\n",
              "      --fill-color: #1967D2;\n",
              "      --hover-bg-color: #E2EBFA;\n",
              "      --hover-fill-color: #174EA6;\n",
              "      --disabled-fill-color: #AAA;\n",
              "      --disabled-bg-color: #DDD;\n",
              "  }\n",
              "\n",
              "  [theme=dark] .colab-df-quickchart {\n",
              "      --bg-color: #3B4455;\n",
              "      --fill-color: #D2E3FC;\n",
              "      --hover-bg-color: #434B5C;\n",
              "      --hover-fill-color: #FFFFFF;\n",
              "      --disabled-bg-color: #3B4455;\n",
              "      --disabled-fill-color: #666;\n",
              "  }\n",
              "\n",
              "  .colab-df-quickchart {\n",
              "    background-color: var(--bg-color);\n",
              "    border: none;\n",
              "    border-radius: 50%;\n",
              "    cursor: pointer;\n",
              "    display: none;\n",
              "    fill: var(--fill-color);\n",
              "    height: 32px;\n",
              "    padding: 0;\n",
              "    width: 32px;\n",
              "  }\n",
              "\n",
              "  .colab-df-quickchart:hover {\n",
              "    background-color: var(--hover-bg-color);\n",
              "    box-shadow: 0 1px 2px rgba(60, 64, 67, 0.3), 0 1px 3px 1px rgba(60, 64, 67, 0.15);\n",
              "    fill: var(--button-hover-fill-color);\n",
              "  }\n",
              "\n",
              "  .colab-df-quickchart-complete:disabled,\n",
              "  .colab-df-quickchart-complete:disabled:hover {\n",
              "    background-color: var(--disabled-bg-color);\n",
              "    fill: var(--disabled-fill-color);\n",
              "    box-shadow: none;\n",
              "  }\n",
              "\n",
              "  .colab-df-spinner {\n",
              "    border: 2px solid var(--fill-color);\n",
              "    border-color: transparent;\n",
              "    border-bottom-color: var(--fill-color);\n",
              "    animation:\n",
              "      spin 1s steps(1) infinite;\n",
              "  }\n",
              "\n",
              "  @keyframes spin {\n",
              "    0% {\n",
              "      border-color: transparent;\n",
              "      border-bottom-color: var(--fill-color);\n",
              "      border-left-color: var(--fill-color);\n",
              "    }\n",
              "    20% {\n",
              "      border-color: transparent;\n",
              "      border-left-color: var(--fill-color);\n",
              "      border-top-color: var(--fill-color);\n",
              "    }\n",
              "    30% {\n",
              "      border-color: transparent;\n",
              "      border-left-color: var(--fill-color);\n",
              "      border-top-color: var(--fill-color);\n",
              "      border-right-color: var(--fill-color);\n",
              "    }\n",
              "    40% {\n",
              "      border-color: transparent;\n",
              "      border-right-color: var(--fill-color);\n",
              "      border-top-color: var(--fill-color);\n",
              "    }\n",
              "    60% {\n",
              "      border-color: transparent;\n",
              "      border-right-color: var(--fill-color);\n",
              "    }\n",
              "    80% {\n",
              "      border-color: transparent;\n",
              "      border-right-color: var(--fill-color);\n",
              "      border-bottom-color: var(--fill-color);\n",
              "    }\n",
              "    90% {\n",
              "      border-color: transparent;\n",
              "      border-bottom-color: var(--fill-color);\n",
              "    }\n",
              "  }\n",
              "</style>\n",
              "\n",
              "  <script>\n",
              "    async function quickchart(key) {\n",
              "      const quickchartButtonEl =\n",
              "        document.querySelector('#' + key + ' button');\n",
              "      quickchartButtonEl.disabled = true;  // To prevent multiple clicks.\n",
              "      quickchartButtonEl.classList.add('colab-df-spinner');\n",
              "      try {\n",
              "        const charts = await google.colab.kernel.invokeFunction(\n",
              "            'suggestCharts', [key], {});\n",
              "      } catch (error) {\n",
              "        console.error('Error during call to suggestCharts:', error);\n",
              "      }\n",
              "      quickchartButtonEl.classList.remove('colab-df-spinner');\n",
              "      quickchartButtonEl.classList.add('colab-df-quickchart-complete');\n",
              "    }\n",
              "    (() => {\n",
              "      let quickchartButtonEl =\n",
              "        document.querySelector('#df-3d609421-7b09-455f-82f0-822f108846b4 button');\n",
              "      quickchartButtonEl.style.display =\n",
              "        google.colab.kernel.accessAllowed ? 'block' : 'none';\n",
              "    })();\n",
              "  </script>\n",
              "</div>\n",
              "\n",
              "    </div>\n",
              "  </div>\n"
            ],
            "application/vnd.google.colaboratory.intrinsic+json": {
              "type": "dataframe",
              "variable_name": "Insurance",
              "summary": "{\n  \"name\": \"Insurance\",\n  \"rows\": 1338,\n  \"fields\": [\n    {\n      \"column\": \"age\",\n      \"properties\": {\n        \"dtype\": \"number\",\n        \"std\": 14,\n        \"min\": 18,\n        \"max\": 64,\n        \"num_unique_values\": 47,\n        \"samples\": [\n          21,\n          45,\n          36\n        ],\n        \"semantic_type\": \"\",\n        \"description\": \"\"\n      }\n    },\n    {\n      \"column\": \"sex\",\n      \"properties\": {\n        \"dtype\": \"number\",\n        \"std\": 0,\n        \"min\": 0,\n        \"max\": 1,\n        \"num_unique_values\": 2,\n        \"samples\": [\n          1,\n          0\n        ],\n        \"semantic_type\": \"\",\n        \"description\": \"\"\n      }\n    },\n    {\n      \"column\": \"bmi\",\n      \"properties\": {\n        \"dtype\": \"number\",\n        \"std\": 6.098186911679014,\n        \"min\": 15.96,\n        \"max\": 53.13,\n        \"num_unique_values\": 548,\n        \"samples\": [\n          23.18,\n          26.885\n        ],\n        \"semantic_type\": \"\",\n        \"description\": \"\"\n      }\n    },\n    {\n      \"column\": \"children\",\n      \"properties\": {\n        \"dtype\": \"number\",\n        \"std\": 1,\n        \"min\": 0,\n        \"max\": 5,\n        \"num_unique_values\": 6,\n        \"samples\": [\n          0,\n          1\n        ],\n        \"semantic_type\": \"\",\n        \"description\": \"\"\n      }\n    },\n    {\n      \"column\": \"smoker\",\n      \"properties\": {\n        \"dtype\": \"number\",\n        \"std\": 0,\n        \"min\": 0,\n        \"max\": 1,\n        \"num_unique_values\": 2,\n        \"samples\": [\n          1,\n          0\n        ],\n        \"semantic_type\": \"\",\n        \"description\": \"\"\n      }\n    },\n    {\n      \"column\": \"region\",\n      \"properties\": {\n        \"dtype\": \"number\",\n        \"std\": 1,\n        \"min\": 0,\n        \"max\": 3,\n        \"num_unique_values\": 4,\n        \"samples\": [\n          2,\n          0\n        ],\n        \"semantic_type\": \"\",\n        \"description\": \"\"\n      }\n    },\n    {\n      \"column\": \"charges\",\n      \"properties\": {\n        \"dtype\": \"number\",\n        \"std\": 12110.011236694001,\n        \"min\": 1121.8739,\n        \"max\": 63770.42801,\n        \"num_unique_values\": 1337,\n        \"samples\": [\n          8688.85885,\n          5708.867\n        ],\n        \"semantic_type\": \"\",\n        \"description\": \"\"\n      }\n    }\n  ]\n}"
            }
          },
          "metadata": {},
          "execution_count": 117
        }
      ]
    },
    {
      "cell_type": "markdown",
      "source": [
        " Store Feature Matrix In X and Response(Target) In Vector y"
      ],
      "metadata": {
        "id": "R5xAGd2okDi-"
      }
    },
    {
      "cell_type": "code",
      "source": [
        "#x is the Output Input variable and y is the output variable\n",
        "x=Insurance.iloc[:,Insurance.columns!='charges']\n",
        "y=Insurance.iloc[:,Insurance.columns=='charges']\n"
      ],
      "metadata": {
        "id": "IojNMSlmkMbW"
      },
      "execution_count": null,
      "outputs": []
    },
    {
      "cell_type": "markdown",
      "source": [
        "Train/Test split\n",
        "1. Split data into two part : a training set and a testing set\n",
        "2. Train the model(s) on training set\n",
        "3. Test the Model(s) on Testing set"
      ],
      "metadata": {
        "id": "t1PHFVsckwRq"
      }
    },
    {
      "cell_type": "code",
      "source": [
        " from sklearn.model_selection import train_test_split\n",
        "x_train,x_test,y_train,y_test=train_test_split(x,y,random_state=42,test_size=0.3)"
      ],
      "metadata": {
        "id": "DyYqwKzTknMx"
      },
      "execution_count": null,
      "outputs": []
    },
    {
      "cell_type": "markdown",
      "source": [
        "Importing Models"
      ],
      "metadata": {
        "id": "W5d36Tgds1gv"
      }
    },
    {
      "cell_type": "markdown",
      "source": [
        "Model Training"
      ],
      "metadata": {
        "id": "37n1ju48thIu"
      }
    },
    {
      "cell_type": "code",
      "source": [
        "linreg = LinearRegression()"
      ],
      "metadata": {
        "id": "Kh86ckrnxMPi"
      },
      "execution_count": null,
      "outputs": []
    },
    {
      "cell_type": "code",
      "source": [
        "linreg.fit(x_train, y_train)\n",
        "pred = linreg.predict(x_test)"
      ],
      "metadata": {
        "id": "Y-vHBKnvxPTA"
      },
      "execution_count": null,
      "outputs": []
    },
    {
      "cell_type": "code",
      "source": [
        "from sklearn.metrics import r2_score"
      ],
      "metadata": {
        "id": "yQcHgI02l4al"
      },
      "execution_count": null,
      "outputs": []
    },
    {
      "cell_type": "code",
      "source": [
        "\n",
        "print(\"R2 score: \",(r2_score(y_test, pred)))"
      ],
      "metadata": {
        "colab": {
          "base_uri": "https://localhost:8080/"
        },
        "id": "8VufWIRyxZcx",
        "outputId": "d03246c3-2667-4416-e368-76886edeaea6"
      },
      "execution_count": null,
      "outputs": [
        {
          "output_type": "stream",
          "name": "stdout",
          "text": [
            "R2 score:  0.7694415927057693\n"
          ]
        }
      ]
    },
    {
      "cell_type": "code",
      "source": [
        "plt.scatter(y_test, pred)\n",
        "plt.xlabel('Y test')\n",
        "plt.ylabel('Y pred')\n",
        "plt.show()"
      ],
      "metadata": {
        "colab": {
          "base_uri": "https://localhost:8080/",
          "height": 193
        },
        "id": "G1XCL9q_xcm5",
        "outputId": "0d986182-100f-4b05-8d42-527848662540"
      },
      "execution_count": null,
      "outputs": [
        {
          "output_type": "error",
          "ename": "NameError",
          "evalue": "name 'plt' is not defined",
          "traceback": [
            "\u001b[0;31m---------------------------------------------------------------------------\u001b[0m",
            "\u001b[0;31mNameError\u001b[0m                                 Traceback (most recent call last)",
            "\u001b[0;32m<ipython-input-2-3c8d1b174cad>\u001b[0m in \u001b[0;36m<cell line: 1>\u001b[0;34m()\u001b[0m\n\u001b[0;32m----> 1\u001b[0;31m \u001b[0mplt\u001b[0m\u001b[0;34m.\u001b[0m\u001b[0mscatter\u001b[0m\u001b[0;34m(\u001b[0m\u001b[0my_test\u001b[0m\u001b[0;34m,\u001b[0m \u001b[0mpred\u001b[0m\u001b[0;34m)\u001b[0m\u001b[0;34m\u001b[0m\u001b[0;34m\u001b[0m\u001b[0m\n\u001b[0m\u001b[1;32m      2\u001b[0m \u001b[0mplt\u001b[0m\u001b[0;34m.\u001b[0m\u001b[0mxlabel\u001b[0m\u001b[0;34m(\u001b[0m\u001b[0;34m'Y test'\u001b[0m\u001b[0;34m)\u001b[0m\u001b[0;34m\u001b[0m\u001b[0;34m\u001b[0m\u001b[0m\n\u001b[1;32m      3\u001b[0m \u001b[0mplt\u001b[0m\u001b[0;34m.\u001b[0m\u001b[0mylabel\u001b[0m\u001b[0;34m(\u001b[0m\u001b[0;34m'Y pred'\u001b[0m\u001b[0;34m)\u001b[0m\u001b[0;34m\u001b[0m\u001b[0;34m\u001b[0m\u001b[0m\n\u001b[1;32m      4\u001b[0m \u001b[0mplt\u001b[0m\u001b[0;34m.\u001b[0m\u001b[0mshow\u001b[0m\u001b[0;34m(\u001b[0m\u001b[0;34m)\u001b[0m\u001b[0;34m\u001b[0m\u001b[0;34m\u001b[0m\u001b[0m\n",
            "\u001b[0;31mNameError\u001b[0m: name 'plt' is not defined"
          ]
        }
      ]
    },
    {
      "cell_type": "markdown",
      "source": [
        "Working Model on New data"
      ],
      "metadata": {
        "id": "3bAT0_ztyqP5"
      }
    },
    {
      "cell_type": "code",
      "source": [
        "data = {'age':50, 'sex':0,'bmi':40.28, 'children':3,'smoker':0, 'region':3}\n",
        "index = [0]\n",
        "cust_df = pd.DataFrame(data, index)\n",
        "cust_df"
      ],
      "metadata": {
        "colab": {
          "base_uri": "https://localhost:8080/",
          "height": 89
        },
        "id": "36n336dmxiJJ",
        "outputId": "7d0a38df-cd75-47d5-b24e-5d8da327882a"
      },
      "execution_count": null,
      "outputs": [
        {
          "output_type": "execute_result",
          "data": {
            "text/plain": [
              "   age  sex    bmi  children  smoker  region\n",
              "0   50    0  40.28         3       0       3"
            ],
            "text/html": [
              "\n",
              "  <div id=\"df-e548b287-d345-4233-b868-c94812207967\" class=\"colab-df-container\">\n",
              "    <div>\n",
              "<style scoped>\n",
              "    .dataframe tbody tr th:only-of-type {\n",
              "        vertical-align: middle;\n",
              "    }\n",
              "\n",
              "    .dataframe tbody tr th {\n",
              "        vertical-align: top;\n",
              "    }\n",
              "\n",
              "    .dataframe thead th {\n",
              "        text-align: right;\n",
              "    }\n",
              "</style>\n",
              "<table border=\"1\" class=\"dataframe\">\n",
              "  <thead>\n",
              "    <tr style=\"text-align: right;\">\n",
              "      <th></th>\n",
              "      <th>age</th>\n",
              "      <th>sex</th>\n",
              "      <th>bmi</th>\n",
              "      <th>children</th>\n",
              "      <th>smoker</th>\n",
              "      <th>region</th>\n",
              "    </tr>\n",
              "  </thead>\n",
              "  <tbody>\n",
              "    <tr>\n",
              "      <th>0</th>\n",
              "      <td>50</td>\n",
              "      <td>0</td>\n",
              "      <td>40.28</td>\n",
              "      <td>3</td>\n",
              "      <td>0</td>\n",
              "      <td>3</td>\n",
              "    </tr>\n",
              "  </tbody>\n",
              "</table>\n",
              "</div>\n",
              "    <div class=\"colab-df-buttons\">\n",
              "\n",
              "  <div class=\"colab-df-container\">\n",
              "    <button class=\"colab-df-convert\" onclick=\"convertToInteractive('df-e548b287-d345-4233-b868-c94812207967')\"\n",
              "            title=\"Convert this dataframe to an interactive table.\"\n",
              "            style=\"display:none;\">\n",
              "\n",
              "  <svg xmlns=\"http://www.w3.org/2000/svg\" height=\"24px\" viewBox=\"0 -960 960 960\">\n",
              "    <path d=\"M120-120v-720h720v720H120Zm60-500h600v-160H180v160Zm220 220h160v-160H400v160Zm0 220h160v-160H400v160ZM180-400h160v-160H180v160Zm440 0h160v-160H620v160ZM180-180h160v-160H180v160Zm440 0h160v-160H620v160Z\"/>\n",
              "  </svg>\n",
              "    </button>\n",
              "\n",
              "  <style>\n",
              "    .colab-df-container {\n",
              "      display:flex;\n",
              "      gap: 12px;\n",
              "    }\n",
              "\n",
              "    .colab-df-convert {\n",
              "      background-color: #E8F0FE;\n",
              "      border: none;\n",
              "      border-radius: 50%;\n",
              "      cursor: pointer;\n",
              "      display: none;\n",
              "      fill: #1967D2;\n",
              "      height: 32px;\n",
              "      padding: 0 0 0 0;\n",
              "      width: 32px;\n",
              "    }\n",
              "\n",
              "    .colab-df-convert:hover {\n",
              "      background-color: #E2EBFA;\n",
              "      box-shadow: 0px 1px 2px rgba(60, 64, 67, 0.3), 0px 1px 3px 1px rgba(60, 64, 67, 0.15);\n",
              "      fill: #174EA6;\n",
              "    }\n",
              "\n",
              "    .colab-df-buttons div {\n",
              "      margin-bottom: 4px;\n",
              "    }\n",
              "\n",
              "    [theme=dark] .colab-df-convert {\n",
              "      background-color: #3B4455;\n",
              "      fill: #D2E3FC;\n",
              "    }\n",
              "\n",
              "    [theme=dark] .colab-df-convert:hover {\n",
              "      background-color: #434B5C;\n",
              "      box-shadow: 0px 1px 3px 1px rgba(0, 0, 0, 0.15);\n",
              "      filter: drop-shadow(0px 1px 2px rgba(0, 0, 0, 0.3));\n",
              "      fill: #FFFFFF;\n",
              "    }\n",
              "  </style>\n",
              "\n",
              "    <script>\n",
              "      const buttonEl =\n",
              "        document.querySelector('#df-e548b287-d345-4233-b868-c94812207967 button.colab-df-convert');\n",
              "      buttonEl.style.display =\n",
              "        google.colab.kernel.accessAllowed ? 'block' : 'none';\n",
              "\n",
              "      async function convertToInteractive(key) {\n",
              "        const element = document.querySelector('#df-e548b287-d345-4233-b868-c94812207967');\n",
              "        const dataTable =\n",
              "          await google.colab.kernel.invokeFunction('convertToInteractive',\n",
              "                                                    [key], {});\n",
              "        if (!dataTable) return;\n",
              "\n",
              "        const docLinkHtml = 'Like what you see? Visit the ' +\n",
              "          '<a target=\"_blank\" href=https://colab.research.google.com/notebooks/data_table.ipynb>data table notebook</a>'\n",
              "          + ' to learn more about interactive tables.';\n",
              "        element.innerHTML = '';\n",
              "        dataTable['output_type'] = 'display_data';\n",
              "        await google.colab.output.renderOutput(dataTable, element);\n",
              "        const docLink = document.createElement('div');\n",
              "        docLink.innerHTML = docLinkHtml;\n",
              "        element.appendChild(docLink);\n",
              "      }\n",
              "    </script>\n",
              "  </div>\n",
              "\n",
              "\n",
              "  <div id=\"id_a4b070c7-9d7e-439c-858f-67e20c2fb06e\">\n",
              "    <style>\n",
              "      .colab-df-generate {\n",
              "        background-color: #E8F0FE;\n",
              "        border: none;\n",
              "        border-radius: 50%;\n",
              "        cursor: pointer;\n",
              "        display: none;\n",
              "        fill: #1967D2;\n",
              "        height: 32px;\n",
              "        padding: 0 0 0 0;\n",
              "        width: 32px;\n",
              "      }\n",
              "\n",
              "      .colab-df-generate:hover {\n",
              "        background-color: #E2EBFA;\n",
              "        box-shadow: 0px 1px 2px rgba(60, 64, 67, 0.3), 0px 1px 3px 1px rgba(60, 64, 67, 0.15);\n",
              "        fill: #174EA6;\n",
              "      }\n",
              "\n",
              "      [theme=dark] .colab-df-generate {\n",
              "        background-color: #3B4455;\n",
              "        fill: #D2E3FC;\n",
              "      }\n",
              "\n",
              "      [theme=dark] .colab-df-generate:hover {\n",
              "        background-color: #434B5C;\n",
              "        box-shadow: 0px 1px 3px 1px rgba(0, 0, 0, 0.15);\n",
              "        filter: drop-shadow(0px 1px 2px rgba(0, 0, 0, 0.3));\n",
              "        fill: #FFFFFF;\n",
              "      }\n",
              "    </style>\n",
              "    <button class=\"colab-df-generate\" onclick=\"generateWithVariable('cust_df')\"\n",
              "            title=\"Generate code using this dataframe.\"\n",
              "            style=\"display:none;\">\n",
              "\n",
              "  <svg xmlns=\"http://www.w3.org/2000/svg\" height=\"24px\"viewBox=\"0 0 24 24\"\n",
              "       width=\"24px\">\n",
              "    <path d=\"M7,19H8.4L18.45,9,17,7.55,7,17.6ZM5,21V16.75L18.45,3.32a2,2,0,0,1,2.83,0l1.4,1.43a1.91,1.91,0,0,1,.58,1.4,1.91,1.91,0,0,1-.58,1.4L9.25,21ZM18.45,9,17,7.55Zm-12,3A5.31,5.31,0,0,0,4.9,8.1,5.31,5.31,0,0,0,1,6.5,5.31,5.31,0,0,0,4.9,4.9,5.31,5.31,0,0,0,6.5,1,5.31,5.31,0,0,0,8.1,4.9,5.31,5.31,0,0,0,12,6.5,5.46,5.46,0,0,0,6.5,12Z\"/>\n",
              "  </svg>\n",
              "    </button>\n",
              "    <script>\n",
              "      (() => {\n",
              "      const buttonEl =\n",
              "        document.querySelector('#id_a4b070c7-9d7e-439c-858f-67e20c2fb06e button.colab-df-generate');\n",
              "      buttonEl.style.display =\n",
              "        google.colab.kernel.accessAllowed ? 'block' : 'none';\n",
              "\n",
              "      buttonEl.onclick = () => {\n",
              "        google.colab.notebook.generateWithVariable('cust_df');\n",
              "      }\n",
              "      })();\n",
              "    </script>\n",
              "  </div>\n",
              "\n",
              "    </div>\n",
              "  </div>\n"
            ],
            "application/vnd.google.colaboratory.intrinsic+json": {
              "type": "dataframe",
              "variable_name": "cust_df",
              "summary": "{\n  \"name\": \"cust_df\",\n  \"rows\": 1,\n  \"fields\": [\n    {\n      \"column\": \"age\",\n      \"properties\": {\n        \"dtype\": \"number\",\n        \"std\": null,\n        \"min\": 50,\n        \"max\": 50,\n        \"num_unique_values\": 1,\n        \"samples\": [\n          50\n        ],\n        \"semantic_type\": \"\",\n        \"description\": \"\"\n      }\n    },\n    {\n      \"column\": \"sex\",\n      \"properties\": {\n        \"dtype\": \"number\",\n        \"std\": null,\n        \"min\": 0,\n        \"max\": 0,\n        \"num_unique_values\": 1,\n        \"samples\": [\n          0\n        ],\n        \"semantic_type\": \"\",\n        \"description\": \"\"\n      }\n    },\n    {\n      \"column\": \"bmi\",\n      \"properties\": {\n        \"dtype\": \"number\",\n        \"std\": null,\n        \"min\": 40.28,\n        \"max\": 40.28,\n        \"num_unique_values\": 1,\n        \"samples\": [\n          40.28\n        ],\n        \"semantic_type\": \"\",\n        \"description\": \"\"\n      }\n    },\n    {\n      \"column\": \"children\",\n      \"properties\": {\n        \"dtype\": \"number\",\n        \"std\": null,\n        \"min\": 3,\n        \"max\": 3,\n        \"num_unique_values\": 1,\n        \"samples\": [\n          3\n        ],\n        \"semantic_type\": \"\",\n        \"description\": \"\"\n      }\n    },\n    {\n      \"column\": \"smoker\",\n      \"properties\": {\n        \"dtype\": \"number\",\n        \"std\": null,\n        \"min\": 0,\n        \"max\": 0,\n        \"num_unique_values\": 1,\n        \"samples\": [\n          0\n        ],\n        \"semantic_type\": \"\",\n        \"description\": \"\"\n      }\n    },\n    {\n      \"column\": \"region\",\n      \"properties\": {\n        \"dtype\": \"number\",\n        \"std\": null,\n        \"min\": 3,\n        \"max\": 3,\n        \"num_unique_values\": 1,\n        \"samples\": [\n          3\n        ],\n        \"semantic_type\": \"\",\n        \"description\": \"\"\n      }\n    }\n  ]\n}"
            }
          },
          "metadata": {},
          "execution_count": 159
        }
      ]
    },
    {
      "cell_type": "markdown",
      "source": [
        "Predicting the Medical Charges of New customer\n"
      ],
      "metadata": {
        "id": "qvAsYhMzyxNw"
      }
    },
    {
      "cell_type": "code",
      "source": [
        "cost_pred = linreg.predict(cust_df)\n",
        "print(\"The medical Insurance cost of the new customer is: \", cost_pred)"
      ],
      "metadata": {
        "colab": {
          "base_uri": "https://localhost:8080/"
        },
        "id": "tExDjfjcxyfA",
        "outputId": "339c3eb8-1791-47ff-b20f-a267f279a9ad"
      },
      "execution_count": null,
      "outputs": [
        {
          "output_type": "stream",
          "name": "stdout",
          "text": [
            "The medical Insurance cost of the new customer is:  [[38509.68409222]]\n"
          ]
        }
      ]
    }
  ]
}